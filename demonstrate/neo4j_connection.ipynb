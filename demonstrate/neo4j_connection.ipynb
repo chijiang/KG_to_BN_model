{
 "cells": [
  {
   "cell_type": "markdown",
   "id": "0b5cd9f2-f5a1-4e31-9ea2-62b06bf4f650",
   "metadata": {},
   "source": [
    "### Connect to neo4j graph database"
   ]
  },
  {
   "cell_type": "code",
   "execution_count": 1,
   "id": "a1553a7b-e2e5-417a-9a2d-a2a62c9e9415",
   "metadata": {},
   "outputs": [],
   "source": [
    "from py2neo import Graph\n",
    "\n",
    "uri = \"bolt://10.60.5.99:7687\"\n",
    "user = \"neo4j\"\n",
    "password = \"Boway123\"\n",
    "\n",
    "graph = Graph(uri, auth=(user, password))"
   ]
  },
  {
   "cell_type": "markdown",
   "id": "9291c633-0483-4df1-aa8f-524c05f77ea1",
   "metadata": {},
   "source": [
    "#### Reading nodes test\n",
    "\n",
    "Target nodes"
   ]
  },
  {
   "cell_type": "code",
   "execution_count": 2,
   "id": "f982e76a-43f7-4a84-94b0-1d54bd14e201",
   "metadata": {},
   "outputs": [
    {
     "data": {
      "text/plain": [
       "[Node('Target', Collectable=True, Importance=0, Measurable=True, Name='气泡缺陷', No='', SQLField='bubble__', Unit=''),\n",
       " Node('Target', Collectable=True, Importance=0, Measurable=True, Name='冷却强度', No='testWrite', SQLField='cool_strength_total_mean_3min', Unit=''),\n",
       " Node('Target', Collectable=True, Importance=0, Measurable=True, Name='原料含水含油', No='', SQLField='', Unit='')]"
      ]
     },
     "execution_count": 2,
     "metadata": {},
     "output_type": "execute_result"
    }
   ],
   "source": [
    "target_nodes = graph.nodes.match('Target').all()\n",
    "target_nodes"
   ]
  },
  {
   "cell_type": "markdown",
   "id": "8c587132-9028-4e42-a5ad-802af0a678c5",
   "metadata": {},
   "source": [
    "Factor nodes"
   ]
  },
  {
   "cell_type": "code",
   "execution_count": 3,
   "id": "acdfecbb-5150-4636-a962-dd0cf0fb2b26",
   "metadata": {},
   "outputs": [
    {
     "data": {
      "text/plain": [
       "[Node('Factor', Collectable=True, Importance=0, Measurable=True, Name='边角料含油', No='', SQLField='', Unit=''),\n",
       " Node('Factor', Collectable=True, Importance=0, Measurable=True, Name='铸造进水流量', No='', SQLField='', Unit=''),\n",
       " Node('Factor', Collectable=True, Importance=0, Measurable=True, Name='铸造进水水温', No='', SQLField='', Unit='')]"
      ]
     },
     "execution_count": 3,
     "metadata": {},
     "output_type": "execute_result"
    }
   ],
   "source": [
    "target_nodes = list(graph.nodes.match('Factor').limit(3))\n",
    "target_nodes"
   ]
  },
  {
   "cell_type": "markdown",
   "id": "d51f7d94-ff6e-4a8e-8a48-00cdd543c6d0",
   "metadata": {},
   "source": [
    "Query node and relationship types"
   ]
  },
  {
   "cell_type": "code",
   "execution_count": 4,
   "id": "33660f81-b883-4023-a293-4bd976bd74d5",
   "metadata": {},
   "outputs": [
    {
     "name": "stdout",
     "output_type": "stream",
     "text": [
      "frozenset({'Target', 'Factor'})\n",
      "frozenset({'Impact'})\n"
     ]
    }
   ],
   "source": [
    "print(graph.schema.node_labels)\n",
    "print(graph.schema.relationship_types)"
   ]
  },
  {
   "cell_type": "markdown",
   "id": "fbdeac98-ff9b-4630-b983-b8bdc6a153bc",
   "metadata": {},
   "source": [
    "Query relationship"
   ]
  },
  {
   "cell_type": "code",
   "execution_count": 5,
   "id": "f0d7af2d-ee93-45dd-8c7a-cb8b884079dd",
   "metadata": {},
   "outputs": [
    {
     "data": {
      "text/html": [
       "<div>\n",
       "<style scoped>\n",
       "    .dataframe tbody tr th:only-of-type {\n",
       "        vertical-align: middle;\n",
       "    }\n",
       "\n",
       "    .dataframe tbody tr th {\n",
       "        vertical-align: top;\n",
       "    }\n",
       "\n",
       "    .dataframe thead th {\n",
       "        text-align: right;\n",
       "    }\n",
       "</style>\n",
       "<table border=\"1\" class=\"dataframe\">\n",
       "  <thead>\n",
       "    <tr style=\"text-align: right;\">\n",
       "      <th></th>\n",
       "      <th>path</th>\n",
       "      <th>m</th>\n",
       "      <th>n</th>\n",
       "    </tr>\n",
       "  </thead>\n",
       "  <tbody>\n",
       "    <tr>\n",
       "      <th>0</th>\n",
       "      <td>({'AccrateFuntion': '', 'PosteriorProbability'...</td>\n",
       "      <td>{'Importance': 0, 'No': '', 'Collectable': Tru...</td>\n",
       "      <td>{'Importance': 0, 'No': '', 'Collectable': Tru...</td>\n",
       "    </tr>\n",
       "    <tr>\n",
       "      <th>1</th>\n",
       "      <td>({'AccrateFuntion': '', 'PosteriorProbability'...</td>\n",
       "      <td>{'Importance': 0, 'No': 'testWrite', 'Collecta...</td>\n",
       "      <td>{'Importance': 0, 'No': '', 'Collectable': Tru...</td>\n",
       "    </tr>\n",
       "    <tr>\n",
       "      <th>2</th>\n",
       "      <td>({'AccrateFuntion': '', 'PosteriorProbability'...</td>\n",
       "      <td>{'Importance': 0, 'No': '', 'Collectable': Tru...</td>\n",
       "      <td>{'Importance': 0, 'No': 'testWrite', 'Collecta...</td>\n",
       "    </tr>\n",
       "  </tbody>\n",
       "</table>\n",
       "</div>"
      ],
      "text/plain": [
       "                                                path  \\\n",
       "0  ({'AccrateFuntion': '', 'PosteriorProbability'...   \n",
       "1  ({'AccrateFuntion': '', 'PosteriorProbability'...   \n",
       "2  ({'AccrateFuntion': '', 'PosteriorProbability'...   \n",
       "\n",
       "                                                   m  \\\n",
       "0  {'Importance': 0, 'No': '', 'Collectable': Tru...   \n",
       "1  {'Importance': 0, 'No': 'testWrite', 'Collecta...   \n",
       "2  {'Importance': 0, 'No': '', 'Collectable': Tru...   \n",
       "\n",
       "                                                   n  \n",
       "0  {'Importance': 0, 'No': '', 'Collectable': Tru...  \n",
       "1  {'Importance': 0, 'No': '', 'Collectable': Tru...  \n",
       "2  {'Importance': 0, 'No': 'testWrite', 'Collecta...  "
      ]
     },
     "execution_count": 5,
     "metadata": {},
     "output_type": "execute_result"
    }
   ],
   "source": [
    "cypher_ = '''MATCH path=(m)-[:Impact]->(n) RETURN path, m, n LIMIT 3'''\n",
    "graph.query(cypher_).to_data_frame()"
   ]
  },
  {
   "cell_type": "markdown",
   "id": "2d8ad9c0-5bb8-4efb-8054-58a12c211a2a",
   "metadata": {},
   "source": [
    "#### Updating test\n",
    "\n",
    "changing value of 'No' key to 'testWrite'"
   ]
  },
  {
   "cell_type": "code",
   "execution_count": 6,
   "id": "b628b991-d142-4d16-b890-7786b56b6725",
   "metadata": {},
   "outputs": [],
   "source": [
    "nodes = graph.nodes.match(Name='冷却强度').all()\n",
    "nodes[0].update({'SQLField': 'cool_strength_total_mean_3min'})\n",
    "graph.push(nodes[0])"
   ]
  },
  {
   "cell_type": "code",
   "execution_count": 7,
   "id": "a51089ee-3bf2-4aa2-a0ea-fa5cd78cd7c1",
   "metadata": {},
   "outputs": [
    {
     "data": {
      "text/plain": [
       "[Node('Target', Collectable=True, Importance=0, Measurable=True, Name='冷却强度', No='testWrite', SQLField='cool_strength_total_mean_3min', Unit='')]"
      ]
     },
     "execution_count": 7,
     "metadata": {},
     "output_type": "execute_result"
    }
   ],
   "source": [
    "graph.nodes.match(Name='冷却强度').all()"
   ]
  },
  {
   "cell_type": "code",
   "execution_count": null,
   "id": "ccd94ec6-b37b-4b43-8123-6207064ac378",
   "metadata": {},
   "outputs": [],
   "source": []
  }
 ],
 "metadata": {
  "kernelspec": {
   "display_name": "Python 3 (ipykernel)",
   "language": "python",
   "name": "python3"
  },
  "language_info": {
   "codemirror_mode": {
    "name": "ipython",
    "version": 3
   },
   "file_extension": ".py",
   "mimetype": "text/x-python",
   "name": "python",
   "nbconvert_exporter": "python",
   "pygments_lexer": "ipython3",
   "version": "3.11.7"
  }
 },
 "nbformat": 4,
 "nbformat_minor": 5
}
