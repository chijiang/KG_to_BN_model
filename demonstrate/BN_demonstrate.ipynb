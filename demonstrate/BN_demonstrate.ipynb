{
 "cells": [
  {
   "cell_type": "markdown",
   "id": "859ea402-86ee-487a-82b3-25b85e188e19",
   "metadata": {},
   "source": [
    "### Making connection to database"
   ]
  },
  {
   "cell_type": "code",
   "execution_count": 1,
   "id": "d85c7013-cc23-4eef-be88-bab6be7b6a3b",
   "metadata": {},
   "outputs": [],
   "source": [
    "from mysql_connection import MySqlManip\n",
    "from neo4j_connection import Neo4jManip\n",
    "import pandas as pd\n",
    "\n",
    "conn = MySqlManip(\n",
    "    user='root', host='10.60.5.99', port=3306, password='Boway@123', database='IOT'\n",
    ")\n",
    "\n",
    "# conn.create_params_table()"
   ]
  },
  {
   "cell_type": "markdown",
   "id": "e8e8e8b4-cec8-4edd-8907-5e68e5a0f1b3",
   "metadata": {},
   "source": [
    "### Reading historian data"
   ]
  },
  {
   "cell_type": "code",
   "execution_count": 2,
   "id": "cd700d55-97df-4a65-8a3e-89b64e1b9f8f",
   "metadata": {},
   "outputs": [],
   "source": [
    "data = conn.load_data_to_dataframe('device_4_bubble_cleaned_data_bayes')\n",
    "data.dropna()\n",
    "selected_labels = [\"cool_strength_total_mean_3min\", \"temp_3m_jiaozhu\", \"label\"]\n",
    "data = data[selected_labels]\n",
    "\n",
    "length = len(data)\n",
    "cool_strength_upper_threshold = sorted(data[\"cool_strength_total_mean_3min\"].tolist())[int(length * 4 / 5)]\n",
    "cool_strength_lower_threshold = sorted(data[\"cool_strength_total_mean_3min\"].tolist())[int(length * 1 / 5)]\n",
    "temp_upper_threshold = sorted(data[\"temp_3m_jiaozhu\"].tolist())[int(length * 5 / 6)]\n",
    "temp_lower_threshold = sorted(data[\"temp_3m_jiaozhu\"].tolist())[int(length * 1 / 5)]\n",
    "\n",
    "data[\"cool_strength_total_mean_3min\"] = pd.cut(\n",
    "    data[\"cool_strength_total_mean_3min\"],\n",
    "    [-float('inf'), cool_strength_lower_threshold, cool_strength_upper_threshold, float('inf')],\n",
    "    labels=[\"IncompleteCooled\",\"WellCooled\",\"OverCooled\"])\n",
    "\n",
    "data[\"temp_3m_jiaozhu\"] = pd.cut(\n",
    "    data[\"temp_3m_jiaozhu\"],\n",
    "    [-float('inf'), temp_lower_threshold, temp_upper_threshold, float('inf')],\n",
    "    labels=[\"UnderHeated\",\"WellHeated\",\"OverHeated\"])\n",
    "\n",
    "data[\"label\"] = pd.cut(\n",
    "    data[\"label\"],\n",
    "    2,\n",
    "    labels=[\"FineBatch\",\"BadBatch\"])"
   ]
  },
  {
   "cell_type": "markdown",
   "id": "fa2d78b8-c591-43ba-a91c-8715b506a6ea",
   "metadata": {},
   "source": [
    "### Creating BN model"
   ]
  },
  {
   "cell_type": "code",
   "execution_count": 3,
   "id": "60bceb92-aed7-4304-90b2-4988d58fdb54",
   "metadata": {},
   "outputs": [],
   "source": [
    "from models.bayes_net import BNCreator\n",
    "bn = BNCreator([\"cool_strength_total_mean_3min\", \"temp_3m_jiaozhu\"], 'label')"
   ]
  },
  {
   "cell_type": "markdown",
   "id": "1b801962-83b4-4c77-806b-b9c3741eb35d",
   "metadata": {},
   "source": [
    "Fitting model with data (initialize model)"
   ]
  },
  {
   "cell_type": "code",
   "execution_count": 4,
   "id": "07c7c0ab-5866-4731-b082-a676399db6ff",
   "metadata": {},
   "outputs": [
    {
     "data": {
      "text/plain": [
       "{'cool_strength_total_mean_3min': ['IncompleteCooled',\n",
       "  'OverCooled',\n",
       "  'WellCooled']}"
      ]
     },
     "execution_count": 4,
     "metadata": {},
     "output_type": "execute_result"
    }
   ],
   "source": [
    "bn.model.fit(data)\n",
    "bn.model.get_cpds()[0].state_names"
   ]
  },
  {
   "cell_type": "code",
   "execution_count": 5,
   "id": "f6ae999b-b78e-4a28-879c-80f83a4de9c3",
   "metadata": {},
   "outputs": [
    {
     "name": "stdout",
     "output_type": "stream",
     "text": [
      "+-------------------------------------------------+----------+\n",
      "| cool_strength_total_mean_3min(IncompleteCooled) | 0.200086 |\n",
      "+-------------------------------------------------+----------+\n",
      "| cool_strength_total_mean_3min(OverCooled)       | 0.19984  |\n",
      "+-------------------------------------------------+----------+\n",
      "| cool_strength_total_mean_3min(WellCooled)       | 0.600074 |\n",
      "+-------------------------------------------------+----------+\n"
     ]
    }
   ],
   "source": [
    "print(bn.model.get_cpds()[0])"
   ]
  },
  {
   "cell_type": "markdown",
   "id": "6c8e73e5-150f-4e65-9602-c3c216d8f1c9",
   "metadata": {},
   "source": [
    "Making changes towards cpd (prior probability)"
   ]
  },
  {
   "cell_type": "code",
   "execution_count": 6,
   "id": "672f6a00-942f-4327-ac23-c39d6115b229",
   "metadata": {},
   "outputs": [
    {
     "name": "stderr",
     "output_type": "stream",
     "text": [
      "WARNING:pgmpy:Replacing existing CPD for cool_strength_total_mean_3min\n"
     ]
    }
   ],
   "source": [
    "bn.update_cpd(\n",
    "    \"cool_strength_total_mean_3min\",\n",
    "    {\n",
    "        \"IncompleteCooled\": 0.08,\n",
    "        \"OverCooled\": 0.13,\n",
    "        \"WellCooled\": 0.79\n",
    "    }\n",
    ")"
   ]
  },
  {
   "cell_type": "code",
   "execution_count": 7,
   "id": "a27e7618-4984-4948-b664-c50ee84473f3",
   "metadata": {},
   "outputs": [
    {
     "name": "stdout",
     "output_type": "stream",
     "text": [
      "+-------------------------------------------------+------+\n",
      "| cool_strength_total_mean_3min(IncompleteCooled) | 0.08 |\n",
      "+-------------------------------------------------+------+\n",
      "| cool_strength_total_mean_3min(OverCooled)       | 0.13 |\n",
      "+-------------------------------------------------+------+\n",
      "| cool_strength_total_mean_3min(WellCooled)       | 0.79 |\n",
      "+-------------------------------------------------+------+\n"
     ]
    }
   ],
   "source": [
    "print(bn.model.get_cpds()[0])"
   ]
  },
  {
   "cell_type": "code",
   "execution_count": 10,
   "id": "3e171dd4-0f4c-48bf-bf85-10b643bab892",
   "metadata": {},
   "outputs": [
    {
     "name": "stdout",
     "output_type": "stream",
     "text": [
      "+-------------------------------+-----+-------------------------------------------+\n",
      "| cool_strength_total_mean_3min | ... | cool_strength_total_mean_3min(WellCooled) |\n",
      "+-------------------------------+-----+-------------------------------------------+\n",
      "| temp_3m_jiaozhu               | ... | temp_3m_jiaozhu(WellHeated)               |\n",
      "+-------------------------------+-----+-------------------------------------------+\n",
      "| label(BadBatch)               | ... | 0.13519985264321238                       |\n",
      "+-------------------------------+-----+-------------------------------------------+\n",
      "| label(FineBatch)              | ... | 0.8648001473567877                        |\n",
      "+-------------------------------+-----+-------------------------------------------+\n"
     ]
    }
   ],
   "source": [
    "print(bn.model.get_cpds()[1])"
   ]
  },
  {
   "cell_type": "code",
   "execution_count": 11,
   "id": "718c4318-9944-48e3-9f25-eda2df9af030",
   "metadata": {},
   "outputs": [
    {
     "name": "stdout",
     "output_type": "stream",
     "text": [
      "+------------------------------+----------+\n",
      "| temp_3m_jiaozhu(OverHeated)  | 0.165114 |\n",
      "+------------------------------+----------+\n",
      "| temp_3m_jiaozhu(UnderHeated) | 0.300993 |\n",
      "+------------------------------+----------+\n",
      "| temp_3m_jiaozhu(WellHeated)  | 0.533893 |\n",
      "+------------------------------+----------+\n"
     ]
    }
   ],
   "source": [
    "print(bn.model.get_cpds()[2])"
   ]
  },
  {
   "cell_type": "markdown",
   "id": "a7283900-dc46-456c-b312-5f3f9b53d638",
   "metadata": {},
   "source": [
    "### Inference"
   ]
  },
  {
   "cell_type": "code",
   "execution_count": 8,
   "id": "b633dc39-970e-4473-a7a1-4da772008999",
   "metadata": {},
   "outputs": [
    {
     "data": {
      "text/html": [
       "<div>\n",
       "<style scoped>\n",
       "    .dataframe tbody tr th:only-of-type {\n",
       "        vertical-align: middle;\n",
       "    }\n",
       "\n",
       "    .dataframe tbody tr th {\n",
       "        vertical-align: top;\n",
       "    }\n",
       "\n",
       "    .dataframe thead th {\n",
       "        text-align: right;\n",
       "    }\n",
       "</style>\n",
       "<table border=\"1\" class=\"dataframe\">\n",
       "  <thead>\n",
       "    <tr style=\"text-align: right;\">\n",
       "      <th></th>\n",
       "      <th>冷却强度</th>\n",
       "      <th>浇铸温度</th>\n",
       "    </tr>\n",
       "  </thead>\n",
       "  <tbody>\n",
       "    <tr>\n",
       "      <th>10300</th>\n",
       "      <td>WellCooled</td>\n",
       "      <td>OverHeated</td>\n",
       "    </tr>\n",
       "  </tbody>\n",
       "</table>\n",
       "</div>"
      ],
      "text/plain": [
       "             冷却强度        浇铸温度\n",
       "10300  WellCooled  OverHeated"
      ]
     },
     "execution_count": 8,
     "metadata": {},
     "output_type": "execute_result"
    }
   ],
   "source": [
    "sample_data = data[[\"cool_strength_total_mean_3min\", \"temp_3m_jiaozhu\"]].loc[[10300]]\n",
    "\n",
    "demon_data = pd.DataFrame( sample_data)\n",
    "demon_data.columns = [\"冷却强度\", \"浇铸温度\"]\n",
    "demon_data"
   ]
  },
  {
   "cell_type": "code",
   "execution_count": 9,
   "id": "bb26cc80-20f4-4f21-9953-6bfe8db9fa24",
   "metadata": {},
   "outputs": [
    {
     "data": {
      "text/html": [
       "<div>\n",
       "<style scoped>\n",
       "    .dataframe tbody tr th:only-of-type {\n",
       "        vertical-align: middle;\n",
       "    }\n",
       "\n",
       "    .dataframe tbody tr th {\n",
       "        vertical-align: top;\n",
       "    }\n",
       "\n",
       "    .dataframe thead th {\n",
       "        text-align: right;\n",
       "    }\n",
       "</style>\n",
       "<table border=\"1\" class=\"dataframe\">\n",
       "  <thead>\n",
       "    <tr style=\"text-align: right;\">\n",
       "      <th></th>\n",
       "      <th>有气泡批次</th>\n",
       "      <th>无气泡批次</th>\n",
       "    </tr>\n",
       "  </thead>\n",
       "  <tbody>\n",
       "    <tr>\n",
       "      <th>10300</th>\n",
       "      <td>0.048319</td>\n",
       "      <td>0.951681</td>\n",
       "    </tr>\n",
       "  </tbody>\n",
       "</table>\n",
       "</div>"
      ],
      "text/plain": [
       "          有气泡批次     无气泡批次\n",
       "10300  0.048319  0.951681"
      ]
     },
     "execution_count": 9,
     "metadata": {},
     "output_type": "execute_result"
    }
   ],
   "source": [
    "res = bn.model.predict_probability(sample_data)\n",
    "\n",
    "res.columns = [\"有气泡批次\", \"无气泡批次\"]\n",
    "res"
   ]
  },
  {
   "cell_type": "code",
   "execution_count": null,
   "id": "7e5d3676-2aa4-4859-9b9e-7c28a81390b3",
   "metadata": {},
   "outputs": [],
   "source": []
  }
 ],
 "metadata": {
  "kernelspec": {
   "display_name": "Python 3 (ipykernel)",
   "language": "python",
   "name": "python3"
  },
  "language_info": {
   "codemirror_mode": {
    "name": "ipython",
    "version": 3
   },
   "file_extension": ".py",
   "mimetype": "text/x-python",
   "name": "python",
   "nbconvert_exporter": "python",
   "pygments_lexer": "ipython3",
   "version": "3.11.7"
  }
 },
 "nbformat": 4,
 "nbformat_minor": 5
}
