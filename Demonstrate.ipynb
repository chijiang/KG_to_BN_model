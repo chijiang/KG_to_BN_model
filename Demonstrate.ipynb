{
 "cells": [
  {
   "cell_type": "markdown",
   "id": "859ea402-86ee-487a-82b3-25b85e188e19",
   "metadata": {},
   "source": [
    "### Making connection to database"
   ]
  },
  {
   "cell_type": "code",
   "execution_count": 1,
   "id": "d85c7013-cc23-4eef-be88-bab6be7b6a3b",
   "metadata": {},
   "outputs": [],
   "source": [
    "from mysql_connection import MySqlManip\n",
    "from neo4j_connection import Neo4jManip\n",
    "import pandas as pd\n",
    "\n",
    "conn = MySqlManip(\n",
    "    user='root', host='10.60.5.99', port=3306, password='Boway@123', database='IOT'\n",
    ")\n",
    "\n",
    "# conn.create_params_table()"
   ]
  },
  {
   "cell_type": "markdown",
   "id": "e8e8e8b4-cec8-4edd-8907-5e68e5a0f1b3",
   "metadata": {},
   "source": [
    "### Reading historian data"
   ]
  },
  {
   "cell_type": "code",
   "execution_count": 5,
   "id": "cd700d55-97df-4a65-8a3e-89b64e1b9f8f",
   "metadata": {},
   "outputs": [
    {
     "data": {
      "text/html": [
       "<div>\n",
       "<style scoped>\n",
       "    .dataframe tbody tr th:only-of-type {\n",
       "        vertical-align: middle;\n",
       "    }\n",
       "\n",
       "    .dataframe tbody tr th {\n",
       "        vertical-align: top;\n",
       "    }\n",
       "\n",
       "    .dataframe thead th {\n",
       "        text-align: right;\n",
       "    }\n",
       "</style>\n",
       "<table border=\"1\" class=\"dataframe\">\n",
       "  <thead>\n",
       "    <tr style=\"text-align: right;\">\n",
       "      <th></th>\n",
       "      <th>cool_strength_total_mean_3min</th>\n",
       "      <th>temp_jiaozhu</th>\n",
       "      <th>label</th>\n",
       "    </tr>\n",
       "  </thead>\n",
       "  <tbody>\n",
       "    <tr>\n",
       "      <th>0</th>\n",
       "      <td>Lower_than_2400</td>\n",
       "      <td>1235-1245</td>\n",
       "      <td>FineBatch</td>\n",
       "    </tr>\n",
       "    <tr>\n",
       "      <th>1</th>\n",
       "      <td>Lower_than_2400</td>\n",
       "      <td>1235-1245</td>\n",
       "      <td>FineBatch</td>\n",
       "    </tr>\n",
       "    <tr>\n",
       "      <th>2</th>\n",
       "      <td>Lower_than_2400</td>\n",
       "      <td>1235-1245</td>\n",
       "      <td>FineBatch</td>\n",
       "    </tr>\n",
       "    <tr>\n",
       "      <th>3</th>\n",
       "      <td>Lower_than_2400</td>\n",
       "      <td>1235-1245</td>\n",
       "      <td>FineBatch</td>\n",
       "    </tr>\n",
       "    <tr>\n",
       "      <th>4</th>\n",
       "      <td>Lower_than_2400</td>\n",
       "      <td>1235-1245</td>\n",
       "      <td>FineBatch</td>\n",
       "    </tr>\n",
       "    <tr>\n",
       "      <th>...</th>\n",
       "      <td>...</td>\n",
       "      <td>...</td>\n",
       "      <td>...</td>\n",
       "    </tr>\n",
       "    <tr>\n",
       "      <th>16208</th>\n",
       "      <td>Lower_than_2400</td>\n",
       "      <td>1235-1245</td>\n",
       "      <td>FineBatch</td>\n",
       "    </tr>\n",
       "    <tr>\n",
       "      <th>16209</th>\n",
       "      <td>Lower_than_2400</td>\n",
       "      <td>1235-1245</td>\n",
       "      <td>FineBatch</td>\n",
       "    </tr>\n",
       "    <tr>\n",
       "      <th>16210</th>\n",
       "      <td>Lower_than_2400</td>\n",
       "      <td>1235-1245</td>\n",
       "      <td>FineBatch</td>\n",
       "    </tr>\n",
       "    <tr>\n",
       "      <th>16211</th>\n",
       "      <td>Lower_than_2400</td>\n",
       "      <td>1235-1245</td>\n",
       "      <td>FineBatch</td>\n",
       "    </tr>\n",
       "    <tr>\n",
       "      <th>16212</th>\n",
       "      <td>Lower_than_2400</td>\n",
       "      <td>1235-1245</td>\n",
       "      <td>FineBatch</td>\n",
       "    </tr>\n",
       "  </tbody>\n",
       "</table>\n",
       "<p>16213 rows × 3 columns</p>\n",
       "</div>"
      ],
      "text/plain": [
       "      cool_strength_total_mean_3min temp_jiaozhu      label\n",
       "0                   Lower_than_2400    1235-1245  FineBatch\n",
       "1                   Lower_than_2400    1235-1245  FineBatch\n",
       "2                   Lower_than_2400    1235-1245  FineBatch\n",
       "3                   Lower_than_2400    1235-1245  FineBatch\n",
       "4                   Lower_than_2400    1235-1245  FineBatch\n",
       "...                             ...          ...        ...\n",
       "16208               Lower_than_2400    1235-1245  FineBatch\n",
       "16209               Lower_than_2400    1235-1245  FineBatch\n",
       "16210               Lower_than_2400    1235-1245  FineBatch\n",
       "16211               Lower_than_2400    1235-1245  FineBatch\n",
       "16212               Lower_than_2400    1235-1245  FineBatch\n",
       "\n",
       "[16213 rows x 3 columns]"
      ]
     },
     "execution_count": 5,
     "metadata": {},
     "output_type": "execute_result"
    }
   ],
   "source": [
    "data = conn.load_data_to_dataframe('device_4_bubble_cleaned_data_bayes')\n",
    "data = data.dropna()\n",
    "selected_labels = [\"cool_strength_total_mean_3min\", \"temp_jiaozhu\", \"label\"]\n",
    "data = data[selected_labels]\n",
    "\n",
    "data[\"cool_strength_total_mean_3min\"] = pd.cut(\n",
    "    data[\"cool_strength_total_mean_3min\"],\n",
    "    [-float('inf'), 2400, 2600, 2700, 2900, float('inf')],\n",
    "    labels=[\"Lower_than_2400\", \"2400-2600\", \"2600-2700\", \"2700-2900\", \"Greater_than_2900\"])\n",
    "\n",
    "data[\"temp_jiaozhu\"] = pd.cut(\n",
    "    data[\"temp_jiaozhu\"],\n",
    "    [-float('inf'), 1230, 1235, 1245, 1250, float('inf')],\n",
    "    labels=[\"Lower_than_1230\",\"1230-1235\",\"1235-1245\", \"1245-1250\", \"Greater_than_1250\"])\n",
    "\n",
    "data[\"label\"] = pd.cut(\n",
    "    data[\"label\"],\n",
    "    2,\n",
    "    labels=[\"FineBatch\",\"BadBatch\"])\n",
    "\n",
    "data"
   ]
  },
  {
   "cell_type": "markdown",
   "id": "fa2d78b8-c591-43ba-a91c-8715b506a6ea",
   "metadata": {},
   "source": [
    "### Creating BN model"
   ]
  },
  {
   "cell_type": "code",
   "execution_count": 9,
   "id": "60bceb92-aed7-4304-90b2-4988d58fdb54",
   "metadata": {},
   "outputs": [],
   "source": [
    "# from models.bayes_net import BNCreator\n",
    "# bn = BNCreator([\"cool_strength_total_mean_3min\", \"temp_jiaozhu\"], ['label'])\n",
    "\n",
    "from pgmpy.models import BayesianNetwork\n",
    "model = BayesianNetwork([\n",
    "    (\"cool_strength_total_mean_3min\", \"D\"),\n",
    "    (\"temp_jiaozhu\", \"D\"),\n",
    "    (\"D\", 'label'),\n",
    "], latents={\"D\"})"
   ]
  },
  {
   "cell_type": "markdown",
   "id": "1b801962-83b4-4c77-806b-b9c3741eb35d",
   "metadata": {},
   "source": [
    "Fitting model with data (initialize model)"
   ]
  },
  {
   "cell_type": "code",
   "execution_count": 11,
   "id": "07c7c0ab-5866-4731-b082-a676399db6ff",
   "metadata": {},
   "outputs": [
    {
     "name": "stderr",
     "output_type": "stream",
     "text": [
      "  0%|          | 0/100 [00:00<?, ?it/s]"
     ]
    },
    {
     "name": "stderr",
     "output_type": "stream",
     "text": [
      "100%|██████████| 100/100 [00:03<00:00, 27.77it/s]\n"
     ]
    }
   ],
   "source": [
    "# bn.model.fit(data)\n",
    "# bn.model.get_cpds()[0].state_names\n",
    "\n",
    "from pgmpy.estimators import ExpectationMaximization\n",
    "estimator = ExpectationMaximization(model, data)\n",
    "\n",
    "params = estimator.get_parameters(latent_card={\"D\": 3})\n",
    "model.add_cpds(*params)\n"
   ]
  },
  {
   "cell_type": "code",
   "execution_count": 12,
   "id": "f6ae999b-b78e-4a28-879c-80f83a4de9c3",
   "metadata": {},
   "outputs": [
    {
     "name": "stdout",
     "output_type": "stream",
     "text": [
      "[<TabularCPD representing P(temp_jiaozhu:4) at 0x1f7b9c9df40>, <TabularCPD representing P(cool_strength_total_mean_3min:5) at 0x1f7ba23c5e0>, <TabularCPD representing P(label:2 | D:3) at 0x1f7b9d24a30>, <TabularCPD representing P(D:3 | cool_strength_total_mean_3min:5, temp_jiaozhu:4) at 0x1f7ba294520>]\n"
     ]
    }
   ],
   "source": [
    "# print(bn.model.get_cpds()[0])\n",
    "\n",
    "print(model.get_cpds())\n"
   ]
  },
  {
   "cell_type": "markdown",
   "id": "6c8e73e5-150f-4e65-9602-c3c216d8f1c9",
   "metadata": {},
   "source": [
    "Making changes towards cpd (prior probability)"
   ]
  },
  {
   "cell_type": "code",
   "execution_count": 7,
   "id": "672f6a00-942f-4327-ac23-c39d6115b229",
   "metadata": {},
   "outputs": [
    {
     "name": "stderr",
     "output_type": "stream",
     "text": [
      "WARNING:pgmpy:Replacing existing CPD for cool_strength_total_mean_3min\n"
     ]
    }
   ],
   "source": [
    "bn.update_cpd(\n",
    "    \"cool_strength_total_mean_3min\",\n",
    "    {\n",
    "        \"\"\n",
    "        \"2400-2600\": 0.08,\n",
    "        \"OverCooled\": 0.13,\n",
    "        \"WellCooled\": 0.79\n",
    "    }\n",
    ")"
   ]
  },
  {
   "cell_type": "code",
   "execution_count": 8,
   "id": "a27e7618-4984-4948-b664-c50ee84473f3",
   "metadata": {},
   "outputs": [
    {
     "name": "stdout",
     "output_type": "stream",
     "text": [
      "+-------------------------------------------+------+\n",
      "| cool_strength_total_mean_3min(2400-2600)  | 0.08 |\n",
      "+-------------------------------------------+------+\n",
      "| cool_strength_total_mean_3min(OverCooled) | 0.13 |\n",
      "+-------------------------------------------+------+\n",
      "| cool_strength_total_mean_3min(WellCooled) | 0.79 |\n",
      "+-------------------------------------------+------+\n"
     ]
    }
   ],
   "source": [
    "print(bn.model.get_cpds()[0])"
   ]
  },
  {
   "cell_type": "code",
   "execution_count": 9,
   "id": "3e171dd4-0f4c-48bf-bf85-10b643bab892",
   "metadata": {},
   "outputs": [
    {
     "name": "stdout",
     "output_type": "stream",
     "text": [
      "+-------------------------------+-----+------------------------------------------------+\n",
      "| cool_strength_total_mean_3min | ... | cool_strength_total_mean_3min(Lower_than_2400) |\n",
      "+-------------------------------+-----+------------------------------------------------+\n",
      "| temp_jiaozhu                  | ... | temp_jiaozhu(Lower_than_1230)                  |\n",
      "+-------------------------------+-----+------------------------------------------------+\n",
      "| label(BadBatch)               | ... | 0.14878892733564014                            |\n",
      "+-------------------------------+-----+------------------------------------------------+\n",
      "| label(FineBatch)              | ... | 0.8512110726643599                             |\n",
      "+-------------------------------+-----+------------------------------------------------+\n"
     ]
    }
   ],
   "source": [
    "print(bn.model.get_cpds()[1])"
   ]
  },
  {
   "cell_type": "code",
   "execution_count": 10,
   "id": "718c4318-9944-48e3-9f25-eda2df9af030",
   "metadata": {},
   "outputs": [
    {
     "name": "stdout",
     "output_type": "stream",
     "text": [
      "+-------------------------------+------------+\n",
      "| temp_jiaozhu(1230-1235)       | 0.0150497  |\n",
      "+-------------------------------+------------+\n",
      "| temp_jiaozhu(1235-1245)       | 0.956023   |\n",
      "+-------------------------------+------------+\n",
      "| temp_jiaozhu(1245-1250)       | 0.00882008 |\n",
      "+-------------------------------+------------+\n",
      "| temp_jiaozhu(Lower_than_1230) | 0.0201073  |\n",
      "+-------------------------------+------------+\n"
     ]
    }
   ],
   "source": [
    "print(bn.model.get_cpds()[2])"
   ]
  },
  {
   "cell_type": "markdown",
   "id": "a7283900-dc46-456c-b312-5f3f9b53d638",
   "metadata": {},
   "source": [
    "### Inference"
   ]
  },
  {
   "cell_type": "code",
   "execution_count": 14,
   "id": "b633dc39-970e-4473-a7a1-4da772008999",
   "metadata": {},
   "outputs": [
    {
     "data": {
      "text/html": [
       "<div>\n",
       "<style scoped>\n",
       "    .dataframe tbody tr th:only-of-type {\n",
       "        vertical-align: middle;\n",
       "    }\n",
       "\n",
       "    .dataframe tbody tr th {\n",
       "        vertical-align: top;\n",
       "    }\n",
       "\n",
       "    .dataframe thead th {\n",
       "        text-align: right;\n",
       "    }\n",
       "</style>\n",
       "<table border=\"1\" class=\"dataframe\">\n",
       "  <thead>\n",
       "    <tr style=\"text-align: right;\">\n",
       "      <th></th>\n",
       "      <th>冷却强度</th>\n",
       "      <th>浇铸温度</th>\n",
       "    </tr>\n",
       "  </thead>\n",
       "  <tbody>\n",
       "    <tr>\n",
       "      <th>10300</th>\n",
       "      <td>Lower_than_2400</td>\n",
       "      <td>1235-1245</td>\n",
       "    </tr>\n",
       "  </tbody>\n",
       "</table>\n",
       "</div>"
      ],
      "text/plain": [
       "                  冷却强度       浇铸温度\n",
       "10300  Lower_than_2400  1235-1245"
      ]
     },
     "execution_count": 14,
     "metadata": {},
     "output_type": "execute_result"
    }
   ],
   "source": [
    "sample_data = data[[\"cool_strength_total_mean_3min\", \"temp_jiaozhu\"]].loc[[10300]]\n",
    "\n",
    "demon_data = pd.DataFrame( sample_data)\n",
    "demon_data.columns = [\"冷却强度\", \"浇铸温度\"]\n",
    "demon_data"
   ]
  },
  {
   "cell_type": "code",
   "execution_count": 15,
   "id": "bb26cc80-20f4-4f21-9953-6bfe8db9fa24",
   "metadata": {},
   "outputs": [
    {
     "data": {
      "text/html": [
       "<div>\n",
       "<style scoped>\n",
       "    .dataframe tbody tr th:only-of-type {\n",
       "        vertical-align: middle;\n",
       "    }\n",
       "\n",
       "    .dataframe tbody tr th {\n",
       "        vertical-align: top;\n",
       "    }\n",
       "\n",
       "    .dataframe thead th {\n",
       "        text-align: right;\n",
       "    }\n",
       "</style>\n",
       "<table border=\"1\" class=\"dataframe\">\n",
       "  <thead>\n",
       "    <tr style=\"text-align: right;\">\n",
       "      <th></th>\n",
       "      <th>label_BadBatch</th>\n",
       "      <th>label_FineBatch</th>\n",
       "      <th>D_0</th>\n",
       "      <th>D_1</th>\n",
       "      <th>D_2</th>\n",
       "    </tr>\n",
       "  </thead>\n",
       "  <tbody>\n",
       "    <tr>\n",
       "      <th>10300</th>\n",
       "      <td>0.08516</td>\n",
       "      <td>0.91484</td>\n",
       "      <td>0.599703</td>\n",
       "      <td>0.331146</td>\n",
       "      <td>0.069151</td>\n",
       "    </tr>\n",
       "  </tbody>\n",
       "</table>\n",
       "</div>"
      ],
      "text/plain": [
       "       label_BadBatch  label_FineBatch       D_0       D_1       D_2\n",
       "10300         0.08516          0.91484  0.599703  0.331146  0.069151"
      ]
     },
     "execution_count": 15,
     "metadata": {},
     "output_type": "execute_result"
    }
   ],
   "source": [
    "res = model.predict_probability(sample_data)\n",
    "\n",
    "# res.columns = [\"有气泡批次\", \"无气泡批次\"]\n",
    "res"
   ]
  },
  {
   "cell_type": "code",
   "execution_count": 34,
   "id": "2c1ce46a-0b8c-4ae2-bb8f-13b2fe2c9741",
   "metadata": {},
   "outputs": [
    {
     "data": {
      "text/html": [
       "<div>\n",
       "<style scoped>\n",
       "    .dataframe tbody tr th:only-of-type {\n",
       "        vertical-align: middle;\n",
       "    }\n",
       "\n",
       "    .dataframe tbody tr th {\n",
       "        vertical-align: top;\n",
       "    }\n",
       "\n",
       "    .dataframe thead th {\n",
       "        text-align: right;\n",
       "    }\n",
       "</style>\n",
       "<table border=\"1\" class=\"dataframe\">\n",
       "  <thead>\n",
       "    <tr style=\"text-align: right;\">\n",
       "      <th></th>\n",
       "      <th>label</th>\n",
       "    </tr>\n",
       "  </thead>\n",
       "  <tbody>\n",
       "    <tr>\n",
       "      <th>10300</th>\n",
       "      <td>BadBatch</td>\n",
       "    </tr>\n",
       "  </tbody>\n",
       "</table>\n",
       "</div>"
      ],
      "text/plain": [
       "          label\n",
       "10300  BadBatch"
      ]
     },
     "execution_count": 34,
     "metadata": {},
     "output_type": "execute_result"
    }
   ],
   "source": [
    "sample_data"
   ]
  }
 ],
 "metadata": {
  "kernelspec": {
   "display_name": "Python 3 (ipykernel)",
   "language": "python",
   "name": "python3"
  },
  "language_info": {
   "codemirror_mode": {
    "name": "ipython",
    "version": 3
   },
   "file_extension": ".py",
   "mimetype": "text/x-python",
   "name": "python",
   "nbconvert_exporter": "python",
   "pygments_lexer": "ipython3",
   "version": "3.8.10"
  }
 },
 "nbformat": 4,
 "nbformat_minor": 5
}
