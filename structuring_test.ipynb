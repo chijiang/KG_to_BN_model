{
 "cells": [
  {
   "cell_type": "markdown",
   "id": "4708caa1",
   "metadata": {},
   "source": [
    "### Creating connection to databases"
   ]
  },
  {
   "cell_type": "code",
   "execution_count": 1,
   "id": "feba93ac-4b54-4c2d-b7d1-770135f601e3",
   "metadata": {},
   "outputs": [],
   "source": [
    "from mysql_connection import MySqlManip\n",
    "from neo4j_connection import Neo4jManip\n",
    "import pandas as pd\n",
    "import numpy as np\n",
    "\n",
    "\n",
    "mysql_conn = MySqlManip(\n",
    "    user='root', host='10.60.5.99', port=3306, password='Boway@123', database='IOT'\n",
    ")\n",
    "\n",
    "neo4j_conn = Neo4jManip(\n",
    "    uri = \"bolt://10.60.5.99:7687\",\n",
    "    user = \"neo4j\",\n",
    "    password = \"Boway123\"\n",
    ")\n",
    "\n",
    "# conn.create_params_table()"
   ]
  },
  {
   "cell_type": "markdown",
   "id": "321e933c",
   "metadata": {},
   "source": [
    "### Reading network structure from Neo4J"
   ]
  },
  {
   "cell_type": "code",
   "execution_count": 2,
   "id": "1709cc7b",
   "metadata": {},
   "outputs": [
    {
     "name": "stdout",
     "output_type": "stream",
     "text": [
      "\n",
      "network_graph: [('铣面屑料比例', '气泡失效'), ('淘捡材料比例', '气泡失效'), ('浇注温度_3米采样', '气泡失效'), ('浇注温度_开始采样', '气泡失效'), ('新金属材料比例', '气泡失效'), ('除气湿度', '气泡失效'), ('总冷却强度', '气泡失效'), ('外购材料比例', '气泡失效'), ('镁含量', '气泡失效'), ('镍含量', '气泡失效'), ('硅含量', '气泡失效'), ('车间废料比例', '气泡失效'), ('湿度', '气泡失效'), ('进水流量', '气泡失效'), ('浇注温度_5米采样', '气泡失效'), ('锌含量', '气泡失效'), ('铝含量', '气泡失效')],\n",
      "\n",
      "\"sql_info\": {'table_name': 'device_4_bubble_cleaned_data_bayes', '铣面屑料比例': {'type': 'factor', 'sql_column': 'weight_percent_ximianxueliao', 'upper': '100', 'lower': '0'}, '气泡失效': {'type': 'target', 'sql_column': 'label'}, '淘捡材料比例': {'type': 'factor', 'sql_column': 'weight_percent_pick', 'upper': '100', 'lower': '0'}, '浇注温度_3米采样': {'type': 'factor', 'sql_column': 'temp_3m_jiaozhu', 'upper': '1270', 'lower': '1230'}, '浇注温度_开始采样': {'type': 'factor', 'sql_column': 'temp_jiaozhu', 'upper': '1270', 'lower': '1230'}, '新金属材料比例': {'type': 'factor', 'sql_column': 'weight_percent_new_metal', 'upper': '100', 'lower': '0'}, '除气湿度': {'type': 'factor', 'sql_column': 'in_house_humidity', 'upper': '1270', 'lower': '1250'}, '总冷却强度': {'type': 'factor', 'sql_column': 'cool_strength_total_mean_3min', 'upper': '2900', 'lower': '2400'}, '外购材料比例': {'type': 'factor', 'sql_column': 'weight_percent_outside_purchase', 'upper': '100', 'lower': '0'}, '镁含量': {'type': 'factor', 'sql_column': 'MG', 'upper': 0.15, 'lower': 0.08}, '镍含量': {'type': 'factor', 'sql_column': 'NI', 'upper': '2.35', 'lower': '2.25'}, '硅含量': {'type': 'factor', 'sql_column': 'SI', 'upper': '0.5', 'lower': '0.475'}, '车间废料比例': {'type': 'factor', 'sql_column': 'weight_percent_waste', 'upper': '100', 'lower': '0'}, '湿度': {'type': 'factor', 'sql_column': 'in_house_humidity', 'upper': '55', 'lower': '30'}, '进水流量': {'type': 'factor', 'sql_column': '727castingInputWaterFlow_mean_3min', 'upper': '20', 'lower': '16'}, '浇注温度_5米采样': {'type': 'factor', 'sql_column': 'temp_5m_jiaozhu', 'upper': '1270', 'lower': '1230'}, '锌含量': {'type': 'factor', 'sql_column': 'ZN', 'upper': '0.07', 'lower': '0'}, '铝含量': {'type': 'factor', 'sql_column': 'AL', 'upper': '0.002', 'lower': '0'}}      \n",
      "      \n"
     ]
    }
   ],
   "source": [
    "network_graph, sql_info = neo4j_conn.read_bayesian_graph(relationship_type = \"Impact\")\n",
    "print(f'''\n",
    "network_graph: {network_graph},\n",
    "\n",
    "\"sql_info\": {sql_info}      \n",
    "      ''')"
   ]
  },
  {
   "cell_type": "markdown",
   "id": "472ce96d",
   "metadata": {},
   "source": [
    "### Reading structured data from MySQL"
   ]
  },
  {
   "cell_type": "code",
   "execution_count": 3,
   "id": "70148ec5",
   "metadata": {},
   "outputs": [],
   "source": [
    "raw_data = mysql_conn.load_data_to_dataframe(sql_info[\"table_name\"])\n",
    "raw_data = raw_data.dropna()\n",
    "raw_data = raw_data[[sql_info[variable][\"sql_column\"] for variable in sql_info.keys() if variable != \"table_name\"]]\n",
    "raw_data.columns = [variable for variable in sql_info.keys() if variable != \"table_name\"]\n"
   ]
  },
  {
   "cell_type": "markdown",
   "id": "2533710a",
   "metadata": {},
   "source": [
    "Data augument"
   ]
  },
  {
   "cell_type": "code",
   "execution_count": 95,
   "id": "5201b461",
   "metadata": {},
   "outputs": [
    {
     "name": "stderr",
     "output_type": "stream",
     "text": [
      "c:\\Users\\pw\\Downloads\\KG_to_BN\\venv\\Lib\\site-packages\\sklearn\\base.py:465: UserWarning: X does not have valid feature names, but IterativeImputer was fitted with feature names\n",
      "  warnings.warn(\n"
     ]
    },
    {
     "data": {
      "text/html": [
       "<div>\n",
       "<style scoped>\n",
       "    .dataframe tbody tr th:only-of-type {\n",
       "        vertical-align: middle;\n",
       "    }\n",
       "\n",
       "    .dataframe tbody tr th {\n",
       "        vertical-align: top;\n",
       "    }\n",
       "\n",
       "    .dataframe thead th {\n",
       "        text-align: right;\n",
       "    }\n",
       "</style>\n",
       "<table border=\"1\" class=\"dataframe\">\n",
       "  <thead>\n",
       "    <tr style=\"text-align: right;\">\n",
       "      <th></th>\n",
       "      <th>铣面屑料比例</th>\n",
       "      <th>气泡失效</th>\n",
       "      <th>淘捡材料比例</th>\n",
       "      <th>浇注温度_3米采样</th>\n",
       "      <th>浇注温度_开始采样</th>\n",
       "      <th>新金属材料比例</th>\n",
       "      <th>除气湿度</th>\n",
       "      <th>总冷却强度</th>\n",
       "      <th>外购材料比例</th>\n",
       "      <th>镁含量</th>\n",
       "      <th>镍含量</th>\n",
       "      <th>硅含量</th>\n",
       "      <th>车间废料比例</th>\n",
       "      <th>湿度</th>\n",
       "      <th>进水流量</th>\n",
       "      <th>浇注温度_5米采样</th>\n",
       "      <th>锌含量</th>\n",
       "      <th>铝含量</th>\n",
       "    </tr>\n",
       "  </thead>\n",
       "  <tbody>\n",
       "    <tr>\n",
       "      <th>0</th>\n",
       "      <td>0.106146</td>\n",
       "      <td>0.0</td>\n",
       "      <td>0.000115</td>\n",
       "      <td>1238.770098</td>\n",
       "      <td>1240.216455</td>\n",
       "      <td>0.146195</td>\n",
       "      <td>59.970727</td>\n",
       "      <td>1925.102770</td>\n",
       "      <td>0.030513</td>\n",
       "      <td>0.092892</td>\n",
       "      <td>2.544802</td>\n",
       "      <td>0.540436</td>\n",
       "      <td>0.700612</td>\n",
       "      <td>59.970727</td>\n",
       "      <td>18.547294</td>\n",
       "      <td>1235.081799</td>\n",
       "      <td>0.027498</td>\n",
       "      <td>0.002663</td>\n",
       "    </tr>\n",
       "    <tr>\n",
       "      <th>2000</th>\n",
       "      <td>0.138447</td>\n",
       "      <td>0.0</td>\n",
       "      <td>0.002894</td>\n",
       "      <td>1237.000000</td>\n",
       "      <td>1240.000000</td>\n",
       "      <td>0.221418</td>\n",
       "      <td>63.200000</td>\n",
       "      <td>1558.350215</td>\n",
       "      <td>0.000000</td>\n",
       "      <td>0.0087</td>\n",
       "      <td>1.895000</td>\n",
       "      <td>0.377100</td>\n",
       "      <td>0.637241</td>\n",
       "      <td>63.200000</td>\n",
       "      <td>19.543176</td>\n",
       "      <td>1234.000000</td>\n",
       "      <td>0.0248</td>\n",
       "      <td>0.0052</td>\n",
       "    </tr>\n",
       "  </tbody>\n",
       "</table>\n",
       "</div>"
      ],
      "text/plain": [
       "        铣面屑料比例  气泡失效    淘捡材料比例    浇注温度_3米采样    浇注温度_开始采样   新金属材料比例       除气湿度  \\\n",
       "0     0.106146   0.0  0.000115  1238.770098  1240.216455  0.146195  59.970727   \n",
       "2000  0.138447   0.0  0.002894  1237.000000  1240.000000  0.221418  63.200000   \n",
       "\n",
       "            总冷却强度    外购材料比例       镁含量       镍含量       硅含量    车间废料比例  \\\n",
       "0     1925.102770  0.030513  0.092892  2.544802  0.540436  0.700612   \n",
       "2000  1558.350215  0.000000    0.0087  1.895000  0.377100  0.637241   \n",
       "\n",
       "             湿度       进水流量    浇注温度_5米采样       锌含量       铝含量  \n",
       "0     59.970727  18.547294  1235.081799  0.027498  0.002663  \n",
       "2000  63.200000  19.543176  1234.000000    0.0248    0.0052  "
      ]
     },
     "execution_count": 95,
     "metadata": {},
     "output_type": "execute_result"
    }
   ],
   "source": [
    "# from sklearn.experimental import enable_iterative_imputer\n",
    "# from sklearn.impute import IterativeImputer\n",
    "\n",
    "# kde = IterativeImputer(max_iter=10, random_state=0)\n",
    "# kde.fit(raw_data)\n",
    "\n",
    "# seed = [[None for x in range(18)]]\n",
    "# seed[0][1] = 0\n",
    "# pd.concat([pd.DataFrame(kde.transform(seed), columns=raw_data.columns), raw_data.iloc[[2000]]])"
   ]
  },
  {
   "cell_type": "code",
   "execution_count": 4,
   "id": "864bc37b",
   "metadata": {},
   "outputs": [
    {
     "data": {
      "text/html": [
       "<div>\n",
       "<style scoped>\n",
       "    .dataframe tbody tr th:only-of-type {\n",
       "        vertical-align: middle;\n",
       "    }\n",
       "\n",
       "    .dataframe tbody tr th {\n",
       "        vertical-align: top;\n",
       "    }\n",
       "\n",
       "    .dataframe thead th {\n",
       "        text-align: right;\n",
       "    }\n",
       "</style>\n",
       "<table border=\"1\" class=\"dataframe\">\n",
       "  <thead>\n",
       "    <tr style=\"text-align: right;\">\n",
       "      <th></th>\n",
       "      <th>铣面屑料比例</th>\n",
       "      <th>气泡失效</th>\n",
       "      <th>淘捡材料比例</th>\n",
       "      <th>浇注温度_3米采样</th>\n",
       "      <th>浇注温度_开始采样</th>\n",
       "      <th>新金属材料比例</th>\n",
       "      <th>除气湿度</th>\n",
       "      <th>总冷却强度</th>\n",
       "      <th>外购材料比例</th>\n",
       "      <th>镁含量</th>\n",
       "      <th>镍含量</th>\n",
       "      <th>硅含量</th>\n",
       "      <th>车间废料比例</th>\n",
       "      <th>湿度</th>\n",
       "      <th>进水流量</th>\n",
       "      <th>浇注温度_5米采样</th>\n",
       "      <th>锌含量</th>\n",
       "      <th>铝含量</th>\n",
       "    </tr>\n",
       "  </thead>\n",
       "  <tbody>\n",
       "    <tr>\n",
       "      <th>0</th>\n",
       "      <td>medium</td>\n",
       "      <td>FineBatch</td>\n",
       "      <td>lower</td>\n",
       "      <td>medium</td>\n",
       "      <td>medium</td>\n",
       "      <td>medium</td>\n",
       "      <td>lower</td>\n",
       "      <td>lower</td>\n",
       "      <td>lower</td>\n",
       "      <td>medium</td>\n",
       "      <td>medium</td>\n",
       "      <td>medium</td>\n",
       "      <td>medium</td>\n",
       "      <td>upper</td>\n",
       "      <td>lower</td>\n",
       "      <td>medium</td>\n",
       "      <td>medium</td>\n",
       "      <td>upper</td>\n",
       "    </tr>\n",
       "    <tr>\n",
       "      <th>1</th>\n",
       "      <td>medium</td>\n",
       "      <td>FineBatch</td>\n",
       "      <td>lower</td>\n",
       "      <td>medium</td>\n",
       "      <td>medium</td>\n",
       "      <td>medium</td>\n",
       "      <td>lower</td>\n",
       "      <td>lower</td>\n",
       "      <td>lower</td>\n",
       "      <td>medium</td>\n",
       "      <td>medium</td>\n",
       "      <td>medium</td>\n",
       "      <td>medium</td>\n",
       "      <td>upper</td>\n",
       "      <td>lower</td>\n",
       "      <td>medium</td>\n",
       "      <td>medium</td>\n",
       "      <td>upper</td>\n",
       "    </tr>\n",
       "    <tr>\n",
       "      <th>2</th>\n",
       "      <td>medium</td>\n",
       "      <td>FineBatch</td>\n",
       "      <td>lower</td>\n",
       "      <td>medium</td>\n",
       "      <td>medium</td>\n",
       "      <td>medium</td>\n",
       "      <td>lower</td>\n",
       "      <td>lower</td>\n",
       "      <td>lower</td>\n",
       "      <td>medium</td>\n",
       "      <td>medium</td>\n",
       "      <td>medium</td>\n",
       "      <td>medium</td>\n",
       "      <td>upper</td>\n",
       "      <td>lower</td>\n",
       "      <td>medium</td>\n",
       "      <td>medium</td>\n",
       "      <td>upper</td>\n",
       "    </tr>\n",
       "    <tr>\n",
       "      <th>3</th>\n",
       "      <td>medium</td>\n",
       "      <td>FineBatch</td>\n",
       "      <td>lower</td>\n",
       "      <td>medium</td>\n",
       "      <td>medium</td>\n",
       "      <td>medium</td>\n",
       "      <td>lower</td>\n",
       "      <td>lower</td>\n",
       "      <td>lower</td>\n",
       "      <td>medium</td>\n",
       "      <td>medium</td>\n",
       "      <td>medium</td>\n",
       "      <td>medium</td>\n",
       "      <td>upper</td>\n",
       "      <td>lower</td>\n",
       "      <td>medium</td>\n",
       "      <td>medium</td>\n",
       "      <td>upper</td>\n",
       "    </tr>\n",
       "    <tr>\n",
       "      <th>4</th>\n",
       "      <td>medium</td>\n",
       "      <td>FineBatch</td>\n",
       "      <td>lower</td>\n",
       "      <td>medium</td>\n",
       "      <td>medium</td>\n",
       "      <td>medium</td>\n",
       "      <td>lower</td>\n",
       "      <td>lower</td>\n",
       "      <td>lower</td>\n",
       "      <td>medium</td>\n",
       "      <td>medium</td>\n",
       "      <td>medium</td>\n",
       "      <td>medium</td>\n",
       "      <td>upper</td>\n",
       "      <td>lower</td>\n",
       "      <td>medium</td>\n",
       "      <td>medium</td>\n",
       "      <td>upper</td>\n",
       "    </tr>\n",
       "    <tr>\n",
       "      <th>...</th>\n",
       "      <td>...</td>\n",
       "      <td>...</td>\n",
       "      <td>...</td>\n",
       "      <td>...</td>\n",
       "      <td>...</td>\n",
       "      <td>...</td>\n",
       "      <td>...</td>\n",
       "      <td>...</td>\n",
       "      <td>...</td>\n",
       "      <td>...</td>\n",
       "      <td>...</td>\n",
       "      <td>...</td>\n",
       "      <td>...</td>\n",
       "      <td>...</td>\n",
       "      <td>...</td>\n",
       "      <td>...</td>\n",
       "      <td>...</td>\n",
       "      <td>...</td>\n",
       "    </tr>\n",
       "    <tr>\n",
       "      <th>16208</th>\n",
       "      <td>medium</td>\n",
       "      <td>FineBatch</td>\n",
       "      <td>lower</td>\n",
       "      <td>medium</td>\n",
       "      <td>medium</td>\n",
       "      <td>medium</td>\n",
       "      <td>lower</td>\n",
       "      <td>lower</td>\n",
       "      <td>lower</td>\n",
       "      <td>medium</td>\n",
       "      <td>medium</td>\n",
       "      <td>medium</td>\n",
       "      <td>medium</td>\n",
       "      <td>upper</td>\n",
       "      <td>medium</td>\n",
       "      <td>medium</td>\n",
       "      <td>medium</td>\n",
       "      <td>upper</td>\n",
       "    </tr>\n",
       "    <tr>\n",
       "      <th>16209</th>\n",
       "      <td>medium</td>\n",
       "      <td>FineBatch</td>\n",
       "      <td>lower</td>\n",
       "      <td>medium</td>\n",
       "      <td>medium</td>\n",
       "      <td>medium</td>\n",
       "      <td>lower</td>\n",
       "      <td>lower</td>\n",
       "      <td>lower</td>\n",
       "      <td>medium</td>\n",
       "      <td>medium</td>\n",
       "      <td>medium</td>\n",
       "      <td>medium</td>\n",
       "      <td>upper</td>\n",
       "      <td>medium</td>\n",
       "      <td>medium</td>\n",
       "      <td>medium</td>\n",
       "      <td>upper</td>\n",
       "    </tr>\n",
       "    <tr>\n",
       "      <th>16210</th>\n",
       "      <td>medium</td>\n",
       "      <td>FineBatch</td>\n",
       "      <td>lower</td>\n",
       "      <td>medium</td>\n",
       "      <td>medium</td>\n",
       "      <td>medium</td>\n",
       "      <td>lower</td>\n",
       "      <td>lower</td>\n",
       "      <td>lower</td>\n",
       "      <td>medium</td>\n",
       "      <td>medium</td>\n",
       "      <td>medium</td>\n",
       "      <td>medium</td>\n",
       "      <td>upper</td>\n",
       "      <td>medium</td>\n",
       "      <td>medium</td>\n",
       "      <td>medium</td>\n",
       "      <td>upper</td>\n",
       "    </tr>\n",
       "    <tr>\n",
       "      <th>16211</th>\n",
       "      <td>medium</td>\n",
       "      <td>FineBatch</td>\n",
       "      <td>lower</td>\n",
       "      <td>medium</td>\n",
       "      <td>medium</td>\n",
       "      <td>medium</td>\n",
       "      <td>lower</td>\n",
       "      <td>lower</td>\n",
       "      <td>lower</td>\n",
       "      <td>medium</td>\n",
       "      <td>medium</td>\n",
       "      <td>medium</td>\n",
       "      <td>medium</td>\n",
       "      <td>upper</td>\n",
       "      <td>medium</td>\n",
       "      <td>medium</td>\n",
       "      <td>medium</td>\n",
       "      <td>upper</td>\n",
       "    </tr>\n",
       "    <tr>\n",
       "      <th>16212</th>\n",
       "      <td>medium</td>\n",
       "      <td>FineBatch</td>\n",
       "      <td>lower</td>\n",
       "      <td>medium</td>\n",
       "      <td>medium</td>\n",
       "      <td>medium</td>\n",
       "      <td>lower</td>\n",
       "      <td>lower</td>\n",
       "      <td>lower</td>\n",
       "      <td>medium</td>\n",
       "      <td>medium</td>\n",
       "      <td>medium</td>\n",
       "      <td>medium</td>\n",
       "      <td>upper</td>\n",
       "      <td>medium</td>\n",
       "      <td>medium</td>\n",
       "      <td>medium</td>\n",
       "      <td>upper</td>\n",
       "    </tr>\n",
       "  </tbody>\n",
       "</table>\n",
       "<p>16213 rows × 18 columns</p>\n",
       "</div>"
      ],
      "text/plain": [
       "       铣面屑料比例       气泡失效 淘捡材料比例 浇注温度_3米采样 浇注温度_开始采样 新金属材料比例   除气湿度  总冷却强度  \\\n",
       "0      medium  FineBatch  lower    medium    medium  medium  lower  lower   \n",
       "1      medium  FineBatch  lower    medium    medium  medium  lower  lower   \n",
       "2      medium  FineBatch  lower    medium    medium  medium  lower  lower   \n",
       "3      medium  FineBatch  lower    medium    medium  medium  lower  lower   \n",
       "4      medium  FineBatch  lower    medium    medium  medium  lower  lower   \n",
       "...       ...        ...    ...       ...       ...     ...    ...    ...   \n",
       "16208  medium  FineBatch  lower    medium    medium  medium  lower  lower   \n",
       "16209  medium  FineBatch  lower    medium    medium  medium  lower  lower   \n",
       "16210  medium  FineBatch  lower    medium    medium  medium  lower  lower   \n",
       "16211  medium  FineBatch  lower    medium    medium  medium  lower  lower   \n",
       "16212  medium  FineBatch  lower    medium    medium  medium  lower  lower   \n",
       "\n",
       "      外购材料比例     镁含量     镍含量     硅含量  车间废料比例     湿度    进水流量 浇注温度_5米采样     锌含量  \\\n",
       "0      lower  medium  medium  medium  medium  upper   lower    medium  medium   \n",
       "1      lower  medium  medium  medium  medium  upper   lower    medium  medium   \n",
       "2      lower  medium  medium  medium  medium  upper   lower    medium  medium   \n",
       "3      lower  medium  medium  medium  medium  upper   lower    medium  medium   \n",
       "4      lower  medium  medium  medium  medium  upper   lower    medium  medium   \n",
       "...      ...     ...     ...     ...     ...    ...     ...       ...     ...   \n",
       "16208  lower  medium  medium  medium  medium  upper  medium    medium  medium   \n",
       "16209  lower  medium  medium  medium  medium  upper  medium    medium  medium   \n",
       "16210  lower  medium  medium  medium  medium  upper  medium    medium  medium   \n",
       "16211  lower  medium  medium  medium  medium  upper  medium    medium  medium   \n",
       "16212  lower  medium  medium  medium  medium  upper  medium    medium  medium   \n",
       "\n",
       "         铝含量  \n",
       "0      upper  \n",
       "1      upper  \n",
       "2      upper  \n",
       "3      upper  \n",
       "4      upper  \n",
       "...      ...  \n",
       "16208  upper  \n",
       "16209  upper  \n",
       "16210  upper  \n",
       "16211  upper  \n",
       "16212  upper  \n",
       "\n",
       "[16213 rows x 18 columns]"
      ]
     },
     "execution_count": 4,
     "metadata": {},
     "output_type": "execute_result"
    }
   ],
   "source": [
    "raw_data = mysql_conn.load_data_to_dataframe(sql_info[\"table_name\"])\n",
    "raw_data = raw_data.dropna()\n",
    "series = []\n",
    "\n",
    "for variable in sql_info.keys():\n",
    "    if variable == \"table_name\":\n",
    "        continue\n",
    "    ser = raw_data[sql_info[variable][\"sql_column\"]]\n",
    "    ser.name = variable\n",
    "    if sql_info[variable][\"type\"] == \"target\":\n",
    "        ser = pd.cut(\n",
    "            ser, \n",
    "            2,\n",
    "            labels=[\"FineBatch\", \"BadBatch\"])\n",
    "    else:\n",
    "        try:\n",
    "            ser = pd.cut(\n",
    "                ser.astype('float'), \n",
    "                [-float(\"inf\"), \n",
    "                float(sql_info[variable][\"lower\"]), \n",
    "                float(sql_info[variable][\"upper\"]),\n",
    "                float(\"inf\")],\n",
    "                labels=[\"lower\", \"medium\", \"upper\"])\n",
    "        except Exception as e:\n",
    "            print(f\"{variable}: {e}\")\n",
    "    series.append(ser)\n",
    "\n",
    "data = pd.DataFrame(series).T\n",
    "data\n"
   ]
  },
  {
   "cell_type": "markdown",
   "id": "e194ad80",
   "metadata": {},
   "source": [
    "### Creating model"
   ]
  },
  {
   "cell_type": "code",
   "execution_count": 16,
   "id": "2c9d85ca",
   "metadata": {},
   "outputs": [],
   "source": [
    "from models.bayes_net import BNCreator\n",
    "model = BNCreator(network_graph, node_info = sql_info)\n",
    "# model.to_graphviz()"
   ]
  },
  {
   "cell_type": "code",
   "execution_count": 6,
   "id": "0edd08b3",
   "metadata": {},
   "outputs": [],
   "source": [
    "from pgmpy.factors.discrete import TabularCPD"
   ]
  },
  {
   "cell_type": "markdown",
   "id": "3c09c235",
   "metadata": {},
   "source": [
    "Creating index : label mapping for different features"
   ]
  },
  {
   "cell_type": "code",
   "execution_count": 7,
   "id": "ff89d83d",
   "metadata": {},
   "outputs": [],
   "source": [
    "list_evidences = [x for x in list(model.nodes) if x != '气泡失效']\n",
    "\n",
    "node_name_decoding = {\n",
    "    i: list_evidences[i] for i in range(len(list_evidences))\n",
    "}\n",
    "node_name_encoding = {\n",
    "    list_evidences[i]: i for i in range(len(list_evidences))\n",
    "}\n",
    "\n",
    "node_class_decoding = {}\n",
    "node_class_encoding = {}\n",
    "for node in list(model.nodes):\n",
    "    node_classes = list(set(data[node]))\n",
    "    node_class_decoding[node] = {i: node_classes[i] for i in range(len(node_classes))}\n",
    "    node_class_encoding[node] = {node_classes[i]: i for i in range(len(node_classes))}"
   ]
  },
  {
   "cell_type": "markdown",
   "id": "71309d9c",
   "metadata": {},
   "source": [
    "Changing column names"
   ]
  },
  {
   "cell_type": "code",
   "execution_count": 8,
   "id": "f2ade450",
   "metadata": {},
   "outputs": [],
   "source": [
    "data_1 = data\n",
    "for col in data_1:\n",
    "    data_1[col] = data_1[col].replace(node_class_encoding[col])"
   ]
  },
  {
   "cell_type": "markdown",
   "id": "4f1c5445",
   "metadata": {},
   "source": [
    "Training model"
   ]
  },
  {
   "cell_type": "code",
   "execution_count": 9,
   "id": "d89e88eb",
   "metadata": {},
   "outputs": [],
   "source": [
    "list_tier1_evidences = []\n",
    "for edge in list(model.edges()):\n",
    "    if edge[1] == '气泡失效':\n",
    "        list_tier1_evidences.append(edge[0])"
   ]
  },
  {
   "cell_type": "code",
   "execution_count": 10,
   "id": "c24d1cf8",
   "metadata": {},
   "outputs": [],
   "source": [
    "list_tier2_evidences = []\n",
    "for edge in list(model.edges()):\n",
    "    if edge[1] == '总冷却强度':\n",
    "        list_tier2_evidences.append(edge[0])"
   ]
  },
  {
   "cell_type": "code",
   "execution_count": 11,
   "id": "0e353f57",
   "metadata": {},
   "outputs": [],
   "source": [
    "cpd_target = TabularCPD(\n",
    "    variable = '气泡失效',\n",
    "    variable_card = len(node_class_encoding['气泡失效']),\n",
    "    evidence = list_tier1_evidences,\n",
    "    evidence_card = [len(node_class_encoding[x]) for x in list_tier1_evidences],\n",
    "    values = [\n",
    "        [0.92 for i in range(np.prod([len(node_class_encoding[x]) for x in list_tier1_evidences]))],\n",
    "        [0.08 for i in range(np.prod([len(node_class_encoding[x]) for x in list_tier1_evidences]))]\n",
    "    ]\n",
    ")"
   ]
  },
  {
   "cell_type": "code",
   "execution_count": 12,
   "id": "0997d159",
   "metadata": {},
   "outputs": [],
   "source": [
    "node_class_encoding['气泡失效']['FineBatch'] = 0\n",
    "node_class_encoding['气泡失效']['BadBatch'] = 1\n",
    "node_class_decoding['气泡失效'][1] = 'BadBatch'\n",
    "node_class_decoding['气泡失效'][0] = 'FineBatch'\n"
   ]
  },
  {
   "cell_type": "code",
   "execution_count": 13,
   "id": "05af5be1",
   "metadata": {},
   "outputs": [
    {
     "name": "stdout",
     "output_type": "stream",
     "text": [
      "no second tier evidences appeared\n"
     ]
    }
   ],
   "source": [
    "second_tier = False\n",
    "try:\n",
    "    cpd_middle = TabularCPD(\n",
    "        variable = '总冷却强度',\n",
    "        variable_card = len(node_class_encoding['总冷却强度']),\n",
    "        evidence = list_tier2_evidences,\n",
    "        evidence_card = [len(node_class_encoding[x]) for x in list_tier2_evidences],\n",
    "        values = [\n",
    "            [0.01 for i in range(np.prod([len(node_class_encoding[x]) for x in list_tier2_evidences]))],\n",
    "            [0.05 for i in range(np.prod([len(node_class_encoding[x]) for x in list_tier2_evidences]))],\n",
    "            [0.94 for i in range(np.prod([len(node_class_encoding[x]) for x in list_tier2_evidences]))]\n",
    "        ]\n",
    "    )\n",
    "    second_tier = True\n",
    "except TypeError as e:\n",
    "    if \"'numpy.float64' object cannot be interpreted as an integer\" in str(e):\n",
    "        print(\"no second tier evidences appeared\")\n",
    "except Exception as err:\n",
    "    print(f\"error happens: {err}\")"
   ]
  },
  {
   "cell_type": "code",
   "execution_count": 22,
   "id": "ede78433",
   "metadata": {},
   "outputs": [
    {
     "name": "stderr",
     "output_type": "stream",
     "text": [
      "WARNING:pgmpy:Replacing existing CPD for 铣面屑料比例\n",
      "WARNING:pgmpy:Replacing existing CPD for 气泡失效\n",
      "WARNING:pgmpy:Replacing existing CPD for 淘捡材料比例\n",
      "WARNING:pgmpy:Replacing existing CPD for 浇注温度_3米采样\n",
      "WARNING:pgmpy:Replacing existing CPD for 浇注温度_开始采样\n",
      "WARNING:pgmpy:Replacing existing CPD for 新金属材料比例\n",
      "WARNING:pgmpy:Replacing existing CPD for 除气湿度\n",
      "WARNING:pgmpy:Replacing existing CPD for 总冷却强度\n",
      "WARNING:pgmpy:Replacing existing CPD for 外购材料比例\n",
      "WARNING:pgmpy:Replacing existing CPD for 镁含量\n",
      "WARNING:pgmpy:Replacing existing CPD for 镍含量\n",
      "WARNING:pgmpy:Replacing existing CPD for 硅含量\n",
      "WARNING:pgmpy:Replacing existing CPD for 车间废料比例\n",
      "WARNING:pgmpy:Replacing existing CPD for 湿度\n",
      "WARNING:pgmpy:Replacing existing CPD for 进水流量\n",
      "WARNING:pgmpy:Replacing existing CPD for 浇注温度_5米采样\n",
      "WARNING:pgmpy:Replacing existing CPD for 锌含量\n",
      "WARNING:pgmpy:Replacing existing CPD for 铝含量\n",
      "WARNING:pgmpy:Replacing existing CPD for 气泡失效\n"
     ]
    }
   ],
   "source": [
    "model.fit(data_1)\n",
    "model.add_cpds(cpd_target)\n",
    "if second_tier:\n",
    "    model.add_cpds(cpd_middle)\n",
    "model.fit_update(pd.concat([data_1]))"
   ]
  },
  {
   "cell_type": "code",
   "execution_count": 23,
   "id": "fe71cee6",
   "metadata": {},
   "outputs": [
    {
     "name": "stdout",
     "output_type": "stream",
     "text": [
      "   气泡失效_FineBatch  气泡失效_BadBatch  铣面屑料比例\n",
      "0        0.905310       0.094690  medium\n",
      "1        0.918067       0.081933   lower\n",
      "   气泡失效_FineBatch  气泡失效_BadBatch  淘捡材料比例\n",
      "0        0.919226       0.080774  medium\n",
      "1        0.906901       0.093099   lower\n",
      "   气泡失效_FineBatch  气泡失效_BadBatch 浇注温度_3米采样\n",
      "0        0.907148       0.092852    medium\n",
      "1        0.919993       0.080007     lower\n",
      "   气泡失效_FineBatch  气泡失效_BadBatch 浇注温度_开始采样\n",
      "0        0.907214       0.092786    medium\n",
      "1        0.919997       0.080003     lower\n",
      "   气泡失效_FineBatch  气泡失效_BadBatch 新金属材料比例\n",
      "0        0.904969       0.095031  medium\n",
      "1        0.913830       0.086170   lower\n",
      "   气泡失效_FineBatch  气泡失效_BadBatch   除气湿度\n",
      "0        0.907472       0.092528  lower\n",
      "   气泡失效_FineBatch  气泡失效_BadBatch   总冷却强度\n",
      "0        0.919947       0.080053   upper\n",
      "1        0.919130       0.080870  medium\n",
      "2        0.906843       0.093157   lower\n",
      "   气泡失效_FineBatch  气泡失效_BadBatch  外购材料比例\n",
      "0        0.919889       0.080111  medium\n",
      "1        0.906127       0.093873   lower\n",
      "   气泡失效_FineBatch  气泡失效_BadBatch     镁含量\n",
      "0        0.905931       0.094069  medium\n",
      "1        0.918914       0.081086   lower\n",
      "   气泡失效_FineBatch  气泡失效_BadBatch     镍含量\n",
      "0        0.902913       0.097087   upper\n",
      "1        0.912716       0.087284  medium\n",
      "2        0.919891       0.080109   lower\n",
      "   气泡失效_FineBatch  气泡失效_BadBatch     硅含量\n",
      "0        0.902798       0.097202   upper\n",
      "1        0.912848       0.087152  medium\n",
      "2        0.919856       0.080144   lower\n",
      "   气泡失效_FineBatch  气泡失效_BadBatch  车间废料比例\n",
      "0        0.907234       0.092766  medium\n",
      "1        0.919335       0.080665   lower\n",
      "   气泡失效_FineBatch  气泡失效_BadBatch      湿度\n",
      "0        0.905310       0.094690   upper\n",
      "1        0.915177       0.084823  medium\n",
      "   气泡失效_FineBatch  气泡失效_BadBatch    进水流量\n",
      "0        0.919748       0.080252   upper\n",
      "1        0.907057       0.092943  medium\n",
      "2        0.919678       0.080322   lower\n",
      "   气泡失效_FineBatch  气泡失效_BadBatch 浇注温度_5米采样\n",
      "0        0.907083       0.092917    medium\n",
      "1        0.919993       0.080007     lower\n",
      "   气泡失效_FineBatch  气泡失效_BadBatch     锌含量\n",
      "0        0.907472       0.092528  medium\n",
      "   气泡失效_FineBatch  气泡失效_BadBatch     铝含量\n",
      "0        0.906521       0.093479   upper\n",
      "1        0.919929       0.080071   lower\n",
      "2        0.908382       0.091618  medium\n"
     ]
    }
   ],
   "source": [
    "# 输出气泡直接相关的后验概率 —— 直接输出\n",
    "\n",
    "import numpy as np\n",
    "\n",
    "for col in data.columns:\n",
    "    \n",
    "    if col == '气泡失效':\n",
    "        continue\n",
    "    \n",
    "    source_node = col\n",
    "    target_node = '气泡失效'\n",
    "    conditions = list(node_class_decoding[source_node].keys())\n",
    "    \n",
    "    decode_target = {\n",
    "        '''%s_%s'''%(target_node, str(i)): '''%s_%s'''%(target_node, node_class_decoding['气泡失效'][i]) \\\n",
    "            for i in node_class_decoding['气泡失效']\n",
    "    }\n",
    "\n",
    "    df_prob = model.predict_probability(pd.DataFrame.from_dict({source_node: conditions}))[[\n",
    "        '气泡失效_0', '气泡失效_1']].rename(columns=decode_target)\n",
    "    df_prob[source_node] = [node_class_decoding[source_node][conditions[i]] for i in range(len(conditions))]\n",
    "    \n",
    "    print (df_prob)\n",
    "        "
   ]
  },
  {
   "cell_type": "code",
   "execution_count": 15,
   "id": "092ff728",
   "metadata": {},
   "outputs": [],
   "source": [
    "# 输出气泡直接相关的后验概率 —— 假设其他code都服从经验分布\n",
    "\n",
    "# import numpy as np\n",
    "\n",
    "# for col in data.columns:\n",
    "    \n",
    "#     if col == '气泡失效':\n",
    "#         continue\n",
    "    \n",
    "#     source_node = col\n",
    "#     target_node = '气泡失效'\n",
    "#     conditions = list(node_class_decoding[source_node].keys())\n",
    "    \n",
    "#     decode_target = {\n",
    "#         '''%s_%s'''%(target_node, str(i)): '''%s_%s'''%(target_node, node_class_decoding['气泡失效'][i]) \\\n",
    "#             for i in node_class_decoding['气泡失效']\n",
    "#     }\n",
    "\n",
    "#     data_2 = data_1\n",
    "#     data_2 = data_2.drop('气泡失效', axis='columns')\n",
    "    \n",
    "#     df_prob = model.predict_probability(data_2)\n",
    "#     df_prob[source_node] = data_2[source_node]\n",
    "#     df_g = df_prob.groupby(source_node).agg({'气泡失效_0': np.mean, '气泡失效_1': np.mean}).\\\n",
    "#         rename(columns=decode_target).reset_index(drop=False)\n",
    "#     df_g[source_node] = df_g[source_node].replace(node_class_decoding[source_node])\n",
    "\n",
    "#     print (df_g)"
   ]
  },
  {
   "cell_type": "code",
   "execution_count": 20,
   "id": "09866d0b",
   "metadata": {},
   "outputs": [],
   "source": [
    "# 输出所有edge（egde for BN = relation for KG）的后验概率\n",
    "\n",
    "dic_posterior = {}\n",
    "\n",
    "for edge in list(model.edges):\n",
    "    source_node = edge[0]\n",
    "    target_node = edge[1]\n",
    "    data_2 = data_1\n",
    "    data_2 = data_2.drop(target_node, axis='columns')\n",
    "    target_classes = list(node_class_decoding[target_node].keys())\n",
    "    target_group_method = {\n",
    "        (target_node + '_' + str(x)): np.mean for x in target_classes\n",
    "    }\n",
    "    decode_target = {\n",
    "        '''%s_%s'''%(target_node, str(i)): '''%s_%s'''%(target_node, node_class_decoding[target_node][i]) \\\n",
    "            for i in node_class_decoding[target_node]\n",
    "    }\n",
    "    df_prob = model.predict_probability(data_2)\n",
    "    df_prob[source_node] = data_2[source_node]\n",
    "    df_g = df_prob.groupby(source_node).agg(target_group_method).\\\n",
    "        rename(columns=decode_target).reset_index(drop=False)\n",
    "    df_g[source_node] = df_g[source_node].replace(node_class_decoding[source_node])\n",
    "    \n",
    "    dic_posterior[(source_node, target_node)] = {\n",
    "        df_g[source_node][i]: {\n",
    "            col: df_g[col][i] for col in list(df_g.columns) if col != source_node\n",
    "            } for i in range(len(df_g))\n",
    "    }\n",
    "    "
   ]
  },
  {
   "cell_type": "code",
   "execution_count": 21,
   "id": "ed5c54c0",
   "metadata": {},
   "outputs": [
    {
     "data": {
      "text/plain": [
       "{('铣面屑料比例',\n",
       "  '气泡失效'): {'lower': {'气泡失效_FineBatch': 0.9043054938710274,\n",
       "   '气泡失效_BadBatch': 0.09569450612897264}, 'medium': {'气泡失效_FineBatch': 0.8806043541716132,\n",
       "   '气泡失效_BadBatch': 0.11939564582838681}},\n",
       " ('淘捡材料比例',\n",
       "  '气泡失效'): {'lower': {'气泡失效_FineBatch': 0.8833090558321672,\n",
       "   '气泡失效_BadBatch': 0.1166909441678328}, 'medium': {'气泡失效_FineBatch': 0.9116499928078051,\n",
       "   '气泡失效_BadBatch': 0.0883500071921949}},\n",
       " ('浇注温度_3米采样',\n",
       "  '气泡失效'): {'lower': {'气泡失效_FineBatch': 0.9172935360402595,\n",
       "   '气泡失效_BadBatch': 0.08270646395974054}, 'medium': {'气泡失效_FineBatch': 0.8837766315871072,\n",
       "   '气泡失效_BadBatch': 0.11622336841289278}},\n",
       " ('浇注温度_开始采样',\n",
       "  '气泡失效'): {'lower': {'气泡失效_FineBatch': 0.917312840934356,\n",
       "   '气泡失效_BadBatch': 0.08268715906564403}, 'medium': {'气泡失效_FineBatch': 0.8839492313711875,\n",
       "   '气泡失效_BadBatch': 0.11605076862881254}},\n",
       " ('新金属材料比例',\n",
       "  '气泡失效'): {'lower': {'气泡失效_FineBatch': 0.8976939688022768,\n",
       "   '气泡失效_BadBatch': 0.10230603119772316}, 'medium': {'气泡失效_FineBatch': 0.8794743632278692,\n",
       "   '气泡失效_BadBatch': 0.12052563677213085}},\n",
       " ('除气湿度',\n",
       "  '气泡失效'): {'lower': {'气泡失效_FineBatch': 0.8846200841879144,\n",
       "   '气泡失效_BadBatch': 0.11537991581208566}},\n",
       " ('总冷却强度',\n",
       "  '气泡失效'): {'lower': {'气泡失效_FineBatch': 0.8830060137801689,\n",
       "   '气泡失效_BadBatch': 0.11699398621983119}, 'upper': {'气泡失效_FineBatch': 0.9176793404700382,\n",
       "   '气泡失效_BadBatch': 0.08232065952996186}, 'medium': {'气泡失效_FineBatch': 0.914491150073418,\n",
       "   '气泡失效_BadBatch': 0.08550884992658211}},\n",
       " ('外购材料比例',\n",
       "  '气泡失效'): {'lower': {'气泡失效_FineBatch': 0.8825910398991565,\n",
       "   '气泡失效_BadBatch': 0.11740896010084352}, 'medium': {'气泡失效_FineBatch': 0.9033592817259438,\n",
       "   '气泡失效_BadBatch': 0.09664071827405615}},\n",
       " ('镁含量',\n",
       "  '气泡失效'): {'lower': {'气泡失效_FineBatch': 0.9140459885678883,\n",
       "   '气泡失效_BadBatch': 0.08595401143211165}, 'medium': {'气泡失效_FineBatch': 0.8806579146850051,\n",
       "   '气泡失效_BadBatch': 0.11934208531499489}},\n",
       " ('镍含量',\n",
       "  '气泡失效'): {'lower': {'气泡失效_FineBatch': 0.9139837935805403,\n",
       "   '气泡失效_BadBatch': 0.08601620641945973}, 'upper': {'气泡失效_FineBatch': 0.8831091404409989,\n",
       "   '气泡失效_BadBatch': 0.11689085955900123}, 'medium': {'气泡失效_FineBatch': 0.8822561089262708,\n",
       "   '气泡失效_BadBatch': 0.11774389107372919}},\n",
       " ('硅含量',\n",
       "  '气泡失效'): {'lower': {'气泡失效_FineBatch': 0.9149731517960515,\n",
       "   '气泡失效_BadBatch': 0.08502684820394854}, 'upper': {'气泡失效_FineBatch': 0.8828405551144024,\n",
       "   '气泡失效_BadBatch': 0.11715944488559757}, 'medium': {'气泡失效_FineBatch': 0.8828292723225469,\n",
       "   '气泡失效_BadBatch': 0.1171707276774531}},\n",
       " ('车间废料比例',\n",
       "  '气泡失效'): {'lower': {'气泡失效_FineBatch': 0.9132010007382393,\n",
       "   '气泡失效_BadBatch': 0.08679899926176082}, 'medium': {'气泡失效_FineBatch': 0.8840482860461716,\n",
       "   '气泡失效_BadBatch': 0.11595171395382856}},\n",
       " ('湿度',\n",
       "  '气泡失效'): {'upper': {'气泡失效_FineBatch': 0.8797367805507934,\n",
       "   '气泡失效_BadBatch': 0.12026321944920662}, 'medium': {'气泡失效_FineBatch': 0.902026477022821,\n",
       "   '气泡失效_BadBatch': 0.09797352297717898}},\n",
       " ('进水流量',\n",
       "  '气泡失效'): {'lower': {'气泡失效_FineBatch': 0.9173732287396441,\n",
       "   '气泡失效_BadBatch': 0.082626771260356}, 'upper': {'气泡失效_FineBatch': 0.9166802798204875,\n",
       "   '气泡失效_BadBatch': 0.08331972017951247}, 'medium': {'气泡失效_FineBatch': 0.883519972972808,\n",
       "   '气泡失效_BadBatch': 0.11648002702719207}},\n",
       " ('浇注温度_5米采样',\n",
       "  '气泡失效'): {'lower': {'气泡失效_FineBatch': 0.9169966813847457,\n",
       "   '气泡失效_BadBatch': 0.08300331861525437}, 'medium': {'气泡失效_FineBatch': 0.8836153287391351,\n",
       "   '气泡失效_BadBatch': 0.11638467126086491}},\n",
       " ('锌含量',\n",
       "  '气泡失效'): {'medium': {'气泡失效_FineBatch': 0.8846200841879144,\n",
       "   '气泡失效_BadBatch': 0.11537991581208566}},\n",
       " ('铝含量',\n",
       "  '气泡失效'): {'lower': {'气泡失效_FineBatch': 0.910898320610687,\n",
       "   '气泡失效_BadBatch': 0.08910167938931297}, 'upper': {'气泡失效_FineBatch': 0.8828199517202795,\n",
       "   '气泡失效_BadBatch': 0.11718004827972059}, 'medium': {'气泡失效_FineBatch': 0.8862826153798042,\n",
       "   '气泡失效_BadBatch': 0.11371738462019576}}}"
      ]
     },
     "execution_count": 21,
     "metadata": {},
     "output_type": "execute_result"
    }
   ],
   "source": [
    "dic_posterior"
   ]
  },
  {
   "cell_type": "markdown",
   "id": "08e04e8f",
   "metadata": {},
   "source": [
    "Writing values to edges of KG"
   ]
  },
  {
   "cell_type": "code",
   "execution_count": 24,
   "id": "fa205362",
   "metadata": {},
   "outputs": [
    {
     "ename": "NameError",
     "evalue": "name 'dic_posterior' is not defined",
     "output_type": "error",
     "traceback": [
      "\u001b[1;31m---------------------------------------------------------------------------\u001b[0m",
      "\u001b[1;31mNameError\u001b[0m                                 Traceback (most recent call last)",
      "Cell \u001b[1;32mIn[24], line 1\u001b[0m\n\u001b[1;32m----> 1\u001b[0m \u001b[38;5;28;01mfor\u001b[39;00m start_end, matrix \u001b[38;5;129;01min\u001b[39;00m \u001b[43mdic_posterior\u001b[49m\u001b[38;5;241m.\u001b[39mitems():\n\u001b[0;32m      2\u001b[0m     start \u001b[38;5;241m=\u001b[39m start_end[\u001b[38;5;241m0\u001b[39m]\n\u001b[0;32m      3\u001b[0m     end \u001b[38;5;241m=\u001b[39m start_end[\u001b[38;5;241m1\u001b[39m]\n",
      "\u001b[1;31mNameError\u001b[0m: name 'dic_posterior' is not defined"
     ]
    }
   ],
   "source": [
    "for start_end, matrix in dic_posterior.items():\n",
    "    start = start_end[0]\n",
    "    end = start_end[1]\n",
    "    neo4j_conn.update_relationship(\n",
    "        start_name = start, \n",
    "        end_name = end, \n",
    "        key = \"probabilities\", \n",
    "        content = matrix\n",
    "    )\n"
   ]
  },
  {
   "cell_type": "code",
   "execution_count": 5,
   "id": "977b46c5",
   "metadata": {},
   "outputs": [],
   "source": [
    "# from pgmpy.estimators import ExpectationMaximization\n",
    "\n",
    "# estimator = ExpectationMaximization(model, data)\n",
    "# latent_card = {}\n",
    "# for latent_node in latents:\n",
    "#     latent_card[latent_node] = 10\n",
    "# params = estimator.get_parameters(latent_card = latent_card)\n",
    "# model.add_cpds(*params)\n",
    "\n",
    "# model.fit(data)"
   ]
  },
  {
   "cell_type": "markdown",
   "id": "cee5785e",
   "metadata": {},
   "source": [
    "### Making inference"
   ]
  },
  {
   "cell_type": "code",
   "execution_count": 39,
   "id": "b3c04216",
   "metadata": {},
   "outputs": [
    {
     "data": {
      "text/html": [
       "<div>\n",
       "<style scoped>\n",
       "    .dataframe tbody tr th:only-of-type {\n",
       "        vertical-align: middle;\n",
       "    }\n",
       "\n",
       "    .dataframe tbody tr th {\n",
       "        vertical-align: top;\n",
       "    }\n",
       "\n",
       "    .dataframe thead th {\n",
       "        text-align: right;\n",
       "    }\n",
       "</style>\n",
       "<table border=\"1\" class=\"dataframe\">\n",
       "  <thead>\n",
       "    <tr style=\"text-align: right;\">\n",
       "      <th></th>\n",
       "      <th>气泡失效_0</th>\n",
       "      <th>气泡失效_1</th>\n",
       "    </tr>\n",
       "  </thead>\n",
       "  <tbody>\n",
       "    <tr>\n",
       "      <th>499</th>\n",
       "      <td>0.914234</td>\n",
       "      <td>0.085766</td>\n",
       "    </tr>\n",
       "  </tbody>\n",
       "</table>\n",
       "</div>"
      ],
      "text/plain": [
       "       气泡失效_0    气泡失效_1\n",
       "499  0.914234  0.085766"
      ]
     },
     "execution_count": 39,
     "metadata": {},
     "output_type": "execute_result"
    }
   ],
   "source": [
    "sample_data = data.drop(columns=[\"气泡失效\"]).loc[[499]]\n",
    "\n",
    "model.predict_probability(sample_data)"
   ]
  },
  {
   "cell_type": "markdown",
   "id": "e9a30bdd",
   "metadata": {},
   "source": [
    "### Input interface"
   ]
  },
  {
   "cell_type": "code",
   "execution_count": 40,
   "id": "e89e39cf",
   "metadata": {},
   "outputs": [
    {
     "ename": "KeyError",
     "evalue": "'FineBatch'",
     "output_type": "error",
     "traceback": [
      "\u001b[1;31m---------------------------------------------------------------------------\u001b[0m",
      "\u001b[1;31mKeyError\u001b[0m                                  Traceback (most recent call last)",
      "Cell \u001b[1;32mIn[40], line 1\u001b[0m\n\u001b[1;32m----> 1\u001b[0m res \u001b[38;5;241m=\u001b[39m \u001b[43mmodel\u001b[49m\u001b[38;5;241;43m.\u001b[39;49m\u001b[43mmake_inference\u001b[49m\u001b[43m(\u001b[49m\u001b[43m{\u001b[49m\u001b[38;5;124;43m\"\u001b[39;49m\u001b[38;5;124;43m气泡失效\u001b[39;49m\u001b[38;5;124;43m\"\u001b[39;49m\u001b[43m:\u001b[49m\u001b[43m \u001b[49m\u001b[38;5;241;43m0\u001b[39;49m\u001b[43m,\u001b[49m\u001b[43m \u001b[49m\u001b[38;5;124;43m\"\u001b[39;49m\u001b[38;5;124;43m镁含量\u001b[39;49m\u001b[38;5;124;43m\"\u001b[39;49m\u001b[43m:\u001b[49m\u001b[43m \u001b[49m\u001b[38;5;241;43m0.0\u001b[39;49m\u001b[43m,\u001b[49m\u001b[43m \u001b[49m\u001b[38;5;124;43m\"\u001b[39;49m\u001b[38;5;124;43m车间废料比例\u001b[39;49m\u001b[38;5;124;43m\"\u001b[39;49m\u001b[43m:\u001b[49m\u001b[43m \u001b[49m\u001b[38;5;241;43m90.0\u001b[39;49m\u001b[43m}\u001b[49m\u001b[43m,\u001b[49m\u001b[43m \u001b[49m\u001b[43mtarget\u001b[49m\u001b[38;5;241;43m=\u001b[39;49m\u001b[38;5;124;43m\"\u001b[39;49m\u001b[38;5;124;43m\"\u001b[39;49m\u001b[43m)\u001b[49m\n\u001b[0;32m      3\u001b[0m \u001b[38;5;28mprint\u001b[39m(res)\n",
      "File \u001b[1;32mc:\\Users\\pw\\Downloads\\KG_to_BN\\models\\bayes_net.py:37\u001b[0m, in \u001b[0;36mBNCreator.make_inference\u001b[1;34m(self, evidence, target)\u001b[0m\n\u001b[0;32m     35\u001b[0m         evid[column] \u001b[38;5;241m=\u001b[39m {\u001b[38;5;241m1\u001b[39m: value}\n\u001b[0;32m     36\u001b[0m input_df \u001b[38;5;241m=\u001b[39m pd\u001b[38;5;241m.\u001b[39mDataFrame(evid)\n\u001b[1;32m---> 37\u001b[0m pred \u001b[38;5;241m=\u001b[39m \u001b[38;5;28;43mself\u001b[39;49m\u001b[38;5;241;43m.\u001b[39;49m\u001b[43mpredict_probability\u001b[49m\u001b[43m(\u001b[49m\u001b[43minput_df\u001b[49m\u001b[43m)\u001b[49m\n\u001b[0;32m     38\u001b[0m pred \u001b[38;5;241m=\u001b[39m pred\u001b[38;5;241m.\u001b[39mloc[:, pred\u001b[38;5;241m.\u001b[39mcolumns\u001b[38;5;241m.\u001b[39mstr\u001b[38;5;241m.\u001b[39mcontains(target)]\n\u001b[0;32m     40\u001b[0m ans \u001b[38;5;241m=\u001b[39m defaultdict(\u001b[38;5;28mdict\u001b[39m)\n",
      "File \u001b[1;32mc:\\Users\\pw\\Downloads\\KG_to_BN\\venv\\Lib\\site-packages\\pgmpy\\models\\BayesianNetwork.py:806\u001b[0m, in \u001b[0;36mBayesianNetwork.predict_probability\u001b[1;34m(self, data)\u001b[0m\n\u001b[0;32m    804\u001b[0m model_inference \u001b[38;5;241m=\u001b[39m VariableElimination(\u001b[38;5;28mself\u001b[39m)\n\u001b[0;32m    805\u001b[0m \u001b[38;5;28;01mfor\u001b[39;00m _, data_point \u001b[38;5;129;01min\u001b[39;00m data\u001b[38;5;241m.\u001b[39miterrows():\n\u001b[1;32m--> 806\u001b[0m     full_distribution \u001b[38;5;241m=\u001b[39m \u001b[43mmodel_inference\u001b[49m\u001b[38;5;241;43m.\u001b[39;49m\u001b[43mquery\u001b[49m\u001b[43m(\u001b[49m\n\u001b[0;32m    807\u001b[0m \u001b[43m        \u001b[49m\u001b[43mvariables\u001b[49m\u001b[38;5;241;43m=\u001b[39;49m\u001b[43mmissing_variables\u001b[49m\u001b[43m,\u001b[49m\n\u001b[0;32m    808\u001b[0m \u001b[43m        \u001b[49m\u001b[43mevidence\u001b[49m\u001b[38;5;241;43m=\u001b[39;49m\u001b[43mdata_point\u001b[49m\u001b[38;5;241;43m.\u001b[39;49m\u001b[43mto_dict\u001b[49m\u001b[43m(\u001b[49m\u001b[43m)\u001b[49m\u001b[43m,\u001b[49m\n\u001b[0;32m    809\u001b[0m \u001b[43m        \u001b[49m\u001b[43mshow_progress\u001b[49m\u001b[38;5;241;43m=\u001b[39;49m\u001b[38;5;28;43;01mFalse\u001b[39;49;00m\u001b[43m,\u001b[49m\n\u001b[0;32m    810\u001b[0m \u001b[43m    \u001b[49m\u001b[43m)\u001b[49m\n\u001b[0;32m    811\u001b[0m     states_dict \u001b[38;5;241m=\u001b[39m {}\n\u001b[0;32m    812\u001b[0m     \u001b[38;5;28;01mfor\u001b[39;00m var \u001b[38;5;129;01min\u001b[39;00m missing_variables:\n",
      "File \u001b[1;32mc:\\Users\\pw\\Downloads\\KG_to_BN\\venv\\Lib\\site-packages\\pgmpy\\inference\\ExactInference.py:339\u001b[0m, in \u001b[0;36mVariableElimination.query\u001b[1;34m(self, variables, evidence, virtual_evidence, elimination_order, joint, show_progress)\u001b[0m\n\u001b[0;32m    337\u001b[0m     indexer \u001b[38;5;241m=\u001b[39m [\u001b[38;5;28mslice\u001b[39m(\u001b[38;5;28;01mNone\u001b[39;00m)] \u001b[38;5;241m*\u001b[39m \u001b[38;5;28mlen\u001b[39m(phi\u001b[38;5;241m.\u001b[39mvariables)\n\u001b[0;32m    338\u001b[0m     \u001b[38;5;28;01mfor\u001b[39;00m index \u001b[38;5;129;01min\u001b[39;00m indexes_to_reduce:\n\u001b[1;32m--> 339\u001b[0m         indexer[index] \u001b[38;5;241m=\u001b[39m \u001b[43mphi\u001b[49m\u001b[38;5;241;43m.\u001b[39;49m\u001b[43mget_state_no\u001b[49m\u001b[43m(\u001b[49m\n\u001b[0;32m    340\u001b[0m \u001b[43m            \u001b[49m\u001b[43mphi\u001b[49m\u001b[38;5;241;43m.\u001b[39;49m\u001b[43mvariables\u001b[49m\u001b[43m[\u001b[49m\u001b[43mindex\u001b[49m\u001b[43m]\u001b[49m\u001b[43m,\u001b[49m\u001b[43m \u001b[49m\u001b[43mevidence\u001b[49m\u001b[43m[\u001b[49m\u001b[43mphi\u001b[49m\u001b[38;5;241;43m.\u001b[39;49m\u001b[43mvariables\u001b[49m\u001b[43m[\u001b[49m\u001b[43mindex\u001b[49m\u001b[43m]\u001b[49m\u001b[43m]\u001b[49m\n\u001b[0;32m    341\u001b[0m \u001b[43m        \u001b[49m\u001b[43m)\u001b[49m\n\u001b[0;32m    342\u001b[0m     reduce_indexes\u001b[38;5;241m.\u001b[39mappend(\u001b[38;5;28mtuple\u001b[39m(indexer))\n\u001b[0;32m    344\u001b[0m \u001b[38;5;66;03m# Step 5.2: Prepare values and index arrays to do use in einsum\u001b[39;00m\n",
      "File \u001b[1;32mc:\\Users\\pw\\Downloads\\KG_to_BN\\venv\\Lib\\site-packages\\pgmpy\\utils\\state_name.py:72\u001b[0m, in \u001b[0;36mStateNameMixin.get_state_no\u001b[1;34m(self, var, state_name)\u001b[0m\n\u001b[0;32m     68\u001b[0m \u001b[38;5;250m\u001b[39m\u001b[38;5;124;03m\"\"\"\u001b[39;00m\n\u001b[0;32m     69\u001b[0m \u001b[38;5;124;03mGiven `var` and `state_name` return the state number.\u001b[39;00m\n\u001b[0;32m     70\u001b[0m \u001b[38;5;124;03m\"\"\"\u001b[39;00m\n\u001b[0;32m     71\u001b[0m \u001b[38;5;28;01mif\u001b[39;00m \u001b[38;5;28mself\u001b[39m\u001b[38;5;241m.\u001b[39mstate_names:\n\u001b[1;32m---> 72\u001b[0m     \u001b[38;5;28;01mreturn\u001b[39;00m \u001b[38;5;28;43mself\u001b[39;49m\u001b[38;5;241;43m.\u001b[39;49m\u001b[43mname_to_no\u001b[49m\u001b[43m[\u001b[49m\u001b[43mvar\u001b[49m\u001b[43m]\u001b[49m\u001b[43m[\u001b[49m\u001b[43mstate_name\u001b[49m\u001b[43m]\u001b[49m\n\u001b[0;32m     73\u001b[0m \u001b[38;5;28;01melse\u001b[39;00m:\n\u001b[0;32m     74\u001b[0m     \u001b[38;5;28;01mreturn\u001b[39;00m state_name\n",
      "\u001b[1;31mKeyError\u001b[0m: 'FineBatch'"
     ]
    }
   ],
   "source": [
    "res = model.make_inference({\"气泡失效\": 0, \"镁含量\": 0.0, \"车间废料比例\": 90.0}, target=\"\")\n",
    "\n",
    "print(res)"
   ]
  },
  {
   "cell_type": "markdown",
   "id": "e84f9e77",
   "metadata": {},
   "source": [
    "### Result values write to databases"
   ]
  },
  {
   "cell_type": "code",
   "execution_count": 41,
   "id": "1040ecfd",
   "metadata": {},
   "outputs": [
    {
     "ename": "NameError",
     "evalue": "name 'res' is not defined",
     "output_type": "error",
     "traceback": [
      "\u001b[1;31m---------------------------------------------------------------------------\u001b[0m",
      "\u001b[1;31mNameError\u001b[0m                                 Traceback (most recent call last)",
      "Cell \u001b[1;32mIn[41], line 1\u001b[0m\n\u001b[1;32m----> 1\u001b[0m \u001b[38;5;28;01mfor\u001b[39;00m key, value \u001b[38;5;129;01min\u001b[39;00m \u001b[43mres\u001b[49m\u001b[38;5;241m.\u001b[39mitems():\n\u001b[0;32m      2\u001b[0m     neo4j_conn\u001b[38;5;241m.\u001b[39mupdate_node(\n\u001b[0;32m      3\u001b[0m         key, \u001b[38;5;124m\"\u001b[39m\u001b[38;5;124mprobablities\u001b[39m\u001b[38;5;124m\"\u001b[39m, \u001b[38;5;28mstr\u001b[39m(value)\n\u001b[0;32m      4\u001b[0m     )\n\u001b[0;32m      5\u001b[0m     \u001b[38;5;28;01mif\u001b[39;00m value\u001b[38;5;241m.\u001b[39mget(\u001b[38;5;124m'\u001b[39m\u001b[38;5;124mmedium\u001b[39m\u001b[38;5;124m'\u001b[39m) \u001b[38;5;129;01mand\u001b[39;00m value\u001b[38;5;241m.\u001b[39mget(\u001b[38;5;124m'\u001b[39m\u001b[38;5;124mmedium\u001b[39m\u001b[38;5;124m'\u001b[39m) \u001b[38;5;241m<\u001b[39m \u001b[38;5;241m0.5\u001b[39m:\n",
      "\u001b[1;31mNameError\u001b[0m: name 'res' is not defined"
     ]
    }
   ],
   "source": [
    "for key, value in res.items():\n",
    "    neo4j_conn.update_node(\n",
    "        key, \"probablities\", str(value)\n",
    "    )\n",
    "    if value.get('medium') and value.get('medium') < 0.5:\n",
    "        neo4j_conn.add_node_type(key, \"activate\")"
   ]
  },
  {
   "cell_type": "code",
   "execution_count": 9,
   "id": "1cd0c522",
   "metadata": {},
   "outputs": [],
   "source": [
    "for key, value in res.items():\n",
    "    neo4j_conn.remove_node_type(key, \"activate\")"
   ]
  },
  {
   "cell_type": "code",
   "execution_count": 42,
   "id": "721a27e5",
   "metadata": {},
   "outputs": [
    {
     "name": "stdout",
     "output_type": "stream",
     "text": [
      "+--------------+-----------+\n",
      "| 浇注温度_开始采样(0) | 0.0201073 |\n",
      "+--------------+-----------+\n",
      "| 浇注温度_开始采样(1) | 0.979893  |\n",
      "+--------------+-----------+\n"
     ]
    }
   ],
   "source": [
    "print(model.get_cpds()[4])"
   ]
  },
  {
   "cell_type": "code",
   "execution_count": 43,
   "id": "eb2cd6cb",
   "metadata": {},
   "outputs": [
    {
     "data": {
      "text/plain": [
       "[<TabularCPD representing P(铣面屑料比例:2) at 0x25ff464b790>,\n",
       " <TabularCPD representing P(气泡失效:2 | 外购材料比例:2, 总冷却强度:3, 新金属材料比例:2, 浇注温度_3米采样:2, 浇注温度_5米采样:2, 浇注温度_开始采样:2, 淘捡材料比例:2, 湿度:2, 硅含量:3, 车间废料比例:2, 进水流量:3, 铝含量:3, 铣面屑料比例:2, 锌含量:1, 镁含量:2, 镍含量:3, 除气湿度:1) at 0x25ff879e650>,\n",
       " <TabularCPD representing P(淘捡材料比例:2) at 0x25ff879cf90>,\n",
       " <TabularCPD representing P(浇注温度_3米采样:2) at 0x25f93b2fe50>,\n",
       " <TabularCPD representing P(浇注温度_开始采样:2) at 0x25f93b2e2d0>,\n",
       " <TabularCPD representing P(新金属材料比例:2) at 0x25f93b2d050>,\n",
       " <TabularCPD representing P(除气湿度:1) at 0x25f93b2ce50>,\n",
       " <TabularCPD representing P(总冷却强度:3) at 0x25f93b2cc10>,\n",
       " <TabularCPD representing P(外购材料比例:2) at 0x25f93b2ca50>,\n",
       " <TabularCPD representing P(镁含量:2) at 0x25f93b2c8d0>,\n",
       " <TabularCPD representing P(镍含量:3) at 0x25f93b2c610>,\n",
       " <TabularCPD representing P(硅含量:3) at 0x25f93b2c410>,\n",
       " <TabularCPD representing P(车间废料比例:2) at 0x25f93b2c210>,\n",
       " <TabularCPD representing P(湿度:2) at 0x25f93b2d0d0>,\n",
       " <TabularCPD representing P(进水流量:3) at 0x25f93b2ff10>,\n",
       " <TabularCPD representing P(浇注温度_5米采样:2) at 0x25f93b2eb10>,\n",
       " <TabularCPD representing P(锌含量:1) at 0x25f93b2ea50>,\n",
       " <TabularCPD representing P(铝含量:3) at 0x25f93b2f790>]"
      ]
     },
     "execution_count": 43,
     "metadata": {},
     "output_type": "execute_result"
    }
   ],
   "source": [
    "model.get_cpds()"
   ]
  },
  {
   "cell_type": "code",
   "execution_count": 44,
   "id": "6199ae66",
   "metadata": {},
   "outputs": [
    {
     "name": "stdout",
     "output_type": "stream",
     "text": [
      "     气泡失效_0    气泡失效_1  铣面屑料比例\n",
      "0  0.920168  0.079832       0\n",
      "1  0.919856  0.080144       1\n",
      "     气泡失效_0    气泡失效_1  淘捡材料比例\n",
      "0  0.919903  0.080097       0\n",
      "1  0.920017  0.079983       1\n",
      "     气泡失效_0    气泡失效_1  浇注温度_3米采样\n",
      "0  0.920001  0.079999          0\n",
      "1  0.919906  0.080094          1\n",
      "     气泡失效_0    气泡失效_1  浇注温度_开始采样\n",
      "0  0.920000  0.080000          0\n",
      "1  0.919907  0.080093          1\n",
      "     气泡失效_0    气泡失效_1  新金属材料比例\n",
      "0  0.920327  0.079673        0\n",
      "1  0.919744  0.080256        1\n",
      "     气泡失效_0    气泡失效_1  除气湿度\n",
      "0  0.919909  0.080091     0\n",
      "     气泡失效_0    气泡失效_1  总冷却强度\n",
      "0  0.919900  0.080100      0\n",
      "1  0.920005  0.079995      1\n",
      "2  0.920074  0.079926      2\n",
      "     气泡失效_0    气泡失效_1  外购材料比例\n",
      "0  0.919898  0.080102       0\n",
      "1  0.920010  0.079990       1\n",
      "     气泡失效_0    气泡失效_1  镁含量\n",
      "0  0.920085  0.079915    0\n",
      "1  0.919885  0.080115    1\n",
      "     气泡失效_0    气泡失效_1  镍含量\n",
      "0  0.919990  0.080010    0\n",
      "1  0.920327  0.079673    1\n",
      "2  0.919229  0.080771    2\n",
      "     气泡失效_0    气泡失效_1  硅含量\n",
      "0  0.919902  0.080098    0\n",
      "1  0.920328  0.079672    1\n",
      "2  0.919261  0.080739    2\n",
      "     气泡失效_0    气泡失效_1  车间废料比例\n",
      "0  0.920058  0.079942       0\n",
      "1  0.919906  0.080094       1\n",
      "    气泡失效_0   气泡失效_1  湿度\n",
      "0  0.91988  0.08012   0\n",
      "1  0.92001  0.07999   1\n",
      "     气泡失效_0    气泡失效_1  进水流量\n",
      "0  0.920014  0.079986     0\n",
      "1  0.920022  0.079978     1\n",
      "2  0.919905  0.080095     2\n",
      "     气泡失效_0    气泡失效_1  浇注温度_5米采样\n",
      "0  0.920001  0.079999          0\n",
      "1  0.919906  0.080094          1\n",
      "     气泡失效_0    气泡失效_1  锌含量\n",
      "0  0.919909  0.080091    0\n",
      "     气泡失效_0    气泡失效_1  铝含量\n",
      "0  0.920006  0.079994    0\n",
      "1  0.920256  0.079744    1\n",
      "2  0.919470  0.080530    2\n"
     ]
    }
   ],
   "source": [
    "import numpy as np\n",
    "\n",
    "for col in data.columns:\n",
    "    \n",
    "    if col == '气泡失效':\n",
    "        continue\n",
    "    \n",
    "    source_node = col\n",
    "    set_source_classes = set(data[source_node])\n",
    "    conditions = []\n",
    "    if 0 in set_source_classes:\n",
    "        conditions.append(0)\n",
    "    if 1 in set_source_classes:\n",
    "        conditions.append(1)\n",
    "    if 2 in set_source_classes:\n",
    "        conditions.append(2)\n",
    "\n",
    "    df_prob = model.predict_probability(pd.DataFrame.from_dict({source_node: conditions}))[[\n",
    "        '气泡失效_0', '气泡失效_1']]\n",
    "    df_prob[source_node] = conditions\n",
    "    \n",
    "    print (df_prob)\n",
    "        "
   ]
  },
  {
   "cell_type": "code",
   "execution_count": 51,
   "id": "f90a8738",
   "metadata": {},
   "outputs": [
    {
     "data": {
      "text/plain": [
       "Index(['气泡失效_BadBatch', '气泡失效_FineBatch', '镍含量'], dtype='object')"
      ]
     },
     "execution_count": 51,
     "metadata": {},
     "output_type": "execute_result"
    }
   ],
   "source": [
    "df_prob.columns"
   ]
  },
  {
   "cell_type": "code",
   "execution_count": 38,
   "id": "d95b5b9f",
   "metadata": {},
   "outputs": [
    {
     "data": {
      "text/html": [
       "<div>\n",
       "<style scoped>\n",
       "    .dataframe tbody tr th:only-of-type {\n",
       "        vertical-align: middle;\n",
       "    }\n",
       "\n",
       "    .dataframe tbody tr th {\n",
       "        vertical-align: top;\n",
       "    }\n",
       "\n",
       "    .dataframe thead th {\n",
       "        text-align: right;\n",
       "    }\n",
       "</style>\n",
       "<table border=\"1\" class=\"dataframe\">\n",
       "  <thead>\n",
       "    <tr style=\"text-align: right;\">\n",
       "      <th></th>\n",
       "      <th>气泡失效</th>\n",
       "    </tr>\n",
       "    <tr>\n",
       "      <th>气泡失效</th>\n",
       "      <th></th>\n",
       "    </tr>\n",
       "  </thead>\n",
       "  <tbody>\n",
       "    <tr>\n",
       "      <th>0</th>\n",
       "      <td>14905</td>\n",
       "    </tr>\n",
       "    <tr>\n",
       "      <th>1</th>\n",
       "      <td>1308</td>\n",
       "    </tr>\n",
       "  </tbody>\n",
       "</table>\n",
       "</div>"
      ],
      "text/plain": [
       "       气泡失效\n",
       "气泡失效       \n",
       "0     14905\n",
       "1      1308"
      ]
     },
     "execution_count": 38,
     "metadata": {},
     "output_type": "execute_result"
    }
   ],
   "source": [
    "data.groupby(['气泡失效']).agg({'气泡失效':'count'})"
   ]
  },
  {
   "cell_type": "code",
   "execution_count": 39,
   "id": "21d407c7",
   "metadata": {},
   "outputs": [
    {
     "data": {
      "text/plain": [
       "0.0806760007401468"
      ]
     },
     "execution_count": 39,
     "metadata": {},
     "output_type": "execute_result"
    }
   ],
   "source": [
    "1308 / (1308 + 14905)"
   ]
  },
  {
   "cell_type": "code",
   "execution_count": 2,
   "id": "314041ba",
   "metadata": {},
   "outputs": [],
   "source": [
    "from pomegranate.distributions import Categorical\n",
    "from pomegranate.distributions import ConditionalCategorical\n",
    "from pomegranate.bayesian_network import BayesianNetwork\n",
    "\n",
    "d1 = Categorical([[0.1, 0.9]])\n",
    "d2 = ConditionalCategorical([[[0.4, 0.6], [0.3, 0.7]]])\n",
    "\n",
    "model = BayesianNetwork([d1, d2], [(d1, d2)])"
   ]
  },
  {
   "cell_type": "code",
   "execution_count": 1,
   "id": "67371980",
   "metadata": {},
   "outputs": [
    {
     "name": "stdout",
     "output_type": "stream",
     "text": [
      "[bnlearn] >Import <sprinkler>\n",
      "[bnlearn] >Check whether CPDs sum up to one.\n",
      "[bnlearn] >Variable Elimination.\n",
      "[bnlearn] >Warning: variable(s) [None] does not exists in DAG.\n",
      "[bnlearn] >Data is stored in [query.df]\n",
      "+----+--------+-----------+\n",
      "|    |   Rain |         p |\n",
      "+====+========+===========+\n",
      "|  0 |      0 | 0.0241546 |\n",
      "+----+--------+-----------+\n",
      "|  1 |      1 | 0.975845  |\n",
      "+----+--------+-----------+\n",
      "   Rain         p\n",
      "0     0  0.024155\n",
      "1     1  0.975845\n",
      "[bnlearn] >Computing best DAG using [hc]\n",
      "[bnlearn] >Set scoring type at [bic]\n",
      "[bnlearn] >Compute structure scores for model comparison (higher is better).\n",
      "[bnlearn] >Parameter learning> Computing parameters using [bayes]\n",
      "[bnlearn] >Converting [<class 'pgmpy.base.DAG.DAG'>] to BayesianNetwork model.\n",
      "[bnlearn] >Converting adjmat to BayesianNetwork.\n",
      "[bnlearn] >CPD of Cloudy:\n",
      "+-----------+---------------------+--------------------+\n",
      "| Wet_Grass | Wet_Grass(0)        | Wet_Grass(1)       |\n",
      "+-----------+---------------------+--------------------+\n",
      "| Cloudy(0) | 0.5607701564380265  | 0.4627887082976903 |\n",
      "+-----------+---------------------+--------------------+\n",
      "| Cloudy(1) | 0.43922984356197353 | 0.5372112917023096 |\n",
      "+-----------+---------------------+--------------------+\n",
      "[bnlearn] >CPD of Sprinkler:\n",
      "+--------------+--------------------+-----+--------------------+\n",
      "| Cloudy       | Cloudy(0)          | ... | Cloudy(1)          |\n",
      "+--------------+--------------------+-----+--------------------+\n",
      "| Wet_Grass    | Wet_Grass(0)       | ... | Wet_Grass(1)       |\n",
      "+--------------+--------------------+-----+--------------------+\n",
      "| Sprinkler(0) | 0.6888412017167382 | ... | 0.7356687898089171 |\n",
      "+--------------+--------------------+-----+--------------------+\n",
      "| Sprinkler(1) | 0.3111587982832618 | ... | 0.2643312101910828 |\n",
      "+--------------+--------------------+-----+--------------------+\n",
      "[bnlearn] >CPD of Rain:\n",
      "+-----------+---------------------+-----+--------------------+\n",
      "| Cloudy    | Cloudy(0)           | ... | Cloudy(1)          |\n",
      "+-----------+---------------------+-----+--------------------+\n",
      "| Sprinkler | Sprinkler(0)        | ... | Sprinkler(1)       |\n",
      "+-----------+---------------------+-----+--------------------+\n",
      "| Wet_Grass | Wet_Grass(0)        | ... | Wet_Grass(1)       |\n",
      "+-----------+---------------------+-----+--------------------+\n",
      "| Rain(0)   | 0.7990654205607477  | ... | 0.4066265060240964 |\n",
      "+-----------+---------------------+-----+--------------------+\n",
      "| Rain(1)   | 0.20093457943925233 | ... | 0.5933734939759037 |\n",
      "+-----------+---------------------+-----+--------------------+\n",
      "[bnlearn] >CPD of Wet_Grass:\n",
      "+--------------+--------+\n",
      "| Wet_Grass(0) | 0.4155 |\n",
      "+--------------+--------+\n",
      "| Wet_Grass(1) | 0.5845 |\n",
      "+--------------+--------+\n",
      "[bnlearn] >Compute structure scores for model comparison (higher is better).\n"
     ]
    },
    {
     "data": {
      "image/png": "[encoded data removed]",
      "text/plain": [
       "<Figure size 640x480 with 2 Axes>"
      ]
     },
     "metadata": {},
     "output_type": "display_data"
    },
    {
     "data": {
      "image/png": "[encoded data removed]",
      "text/plain": [
       "<Figure size 1500x800 with 1 Axes>"
      ]
     },
     "metadata": {},
     "output_type": "display_data"
    }
   ],
   "source": [
    "import bnlearn as bn\n",
    "\n",
    "model = bn.import_DAG('sprinkler')\n",
    "\n",
    "df = bn.import_example()\n",
    "\n",
    "df = bn.sampling(model)\n",
    "\n",
    "query = bn.inference.fit(model, variables=['Rain'], evidence={'Cloudy':1, 'Wet_Grass':1})\n",
    "print(query.df)\n",
    "\n",
    "model_sl = bn.structure_learning.fit(df)\n",
    "\n",
    "model_pl = bn.parameter_learning.fit(model_sl, df)\n",
    "\n",
    "scores, adjmat = bn.compare_networks(model_sl, model)"
   ]
  },
  {
   "cell_type": "code",
   "execution_count": 2,
   "id": "a686d1c7",
   "metadata": {},
   "outputs": [],
   "source": [
    "import bnlearn as bn"
   ]
  },
  {
   "cell_type": "code",
   "execution_count": 7,
   "id": "426a12d0",
   "metadata": {},
   "outputs": [
    {
     "name": "stdout",
     "output_type": "stream",
     "text": [
      "[bnlearn] >Variable Elimination.\n",
      "[bnlearn] >Warning: variable(s) [None] does not exists in DAG.\n",
      "[bnlearn] >Data is stored in [query.df]\n",
      "+----+--------+-----------+\n",
      "|    |   Rain |         p |\n",
      "+====+========+===========+\n",
      "|  0 |      0 | 0.0241546 |\n",
      "+----+--------+-----------+\n",
      "|  1 |      1 | 0.975845  |\n",
      "+----+--------+-----------+\n",
      "   Rain         p\n",
      "0     0  0.024155\n",
      "1     1  0.975845\n"
     ]
    }
   ],
   "source": [
    "query = bn.inference.fit(model, variables=['Rain'], evidence={'Cloudy':1, 'Wet_Grass':1})\n",
    "print(query.df)"
   ]
  }
 ],
 "metadata": {
  "kernelspec": {
   "display_name": "Python 3 (ipykernel)",
   "language": "python",
   "name": "python3"
  },
  "language_info": {
   "codemirror_mode": {
    "name": "ipython",
    "version": 3
   },
   "file_extension": ".py",
   "mimetype": "text/x-python",
   "name": "python",
   "nbconvert_exporter": "python",
   "pygments_lexer": "ipython3",
   "version": "3.8.10"
  }
 },
 "nbformat": 4,
 "nbformat_minor": 5
}
